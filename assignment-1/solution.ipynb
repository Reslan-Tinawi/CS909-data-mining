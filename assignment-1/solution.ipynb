{
 "cells": [
  {
   "cell_type": "markdown",
   "id": "f1d5fcb5-c2ef-4763-9e28-8540c3121e94",
   "metadata": {
    "jp-MarkdownHeadingCollapsed": true
   },
   "source": [
    "# Import packages\n"
   ]
  },
  {
   "cell_type": "code",
   "execution_count": null,
   "id": "7374a82b-ae82-4e94-b7f3-90e4abdca332",
   "metadata": {
    "execution": {
     "iopub.execute_input": "2024-02-15T09:08:53.420546Z",
     "iopub.status.busy": "2024-02-15T09:08:53.420546Z",
     "iopub.status.idle": "2024-02-15T09:08:54.659334Z",
     "shell.execute_reply": "2024-02-15T09:08:54.659334Z",
     "shell.execute_reply.started": "2024-02-15T09:08:53.420546Z"
    }
   },
   "outputs": [],
   "source": [
    "import matplotlib.pyplot as plt\n",
    "import numpy as np\n",
    "import pandas as pd\n",
    "import seaborn as sns\n",
    "from sklearn.base import BaseEstimator, TransformerMixin\n",
    "from sklearn.decomposition import PCA\n",
    "from sklearn.ensemble import RandomForestClassifier\n",
    "from sklearn.metrics import (\n",
    "    ConfusionMatrixDisplay,\n",
    "    PrecisionRecallDisplay,\n",
    "    RocCurveDisplay,\n",
    "    accuracy_score,\n",
    "    auc,\n",
    "    balanced_accuracy_score,\n",
    "    f1_score,\n",
    "    make_scorer,\n",
    "    matthews_corrcoef,\n",
    "    precision_recall_curve,\n",
    "    roc_auc_score,\n",
    ")\n",
    "from sklearn.model_selection import GridSearchCV, StratifiedKFold, train_test_split\n",
    "from sklearn.neighbors import KNeighborsClassifier\n",
    "from sklearn.pipeline import Pipeline\n",
    "from sklearn.preprocessing import MaxAbsScaler, MinMaxScaler, Normalizer, StandardScaler\n",
    "from sklearn.svm import SVC\n",
    "\n",
    "from typing import Union"
   ]
  },
  {
   "cell_type": "code",
   "execution_count": null,
   "id": "395ab1ae-82f3-4405-99ec-59e77b12e41a",
   "metadata": {
    "execution": {
     "iopub.execute_input": "2024-02-15T09:08:54.660327Z",
     "iopub.status.busy": "2024-02-15T09:08:54.660327Z",
     "iopub.status.idle": "2024-02-15T09:08:54.675337Z",
     "shell.execute_reply": "2024-02-15T09:08:54.674334Z",
     "shell.execute_reply.started": "2024-02-15T09:08:54.660327Z"
    }
   },
   "outputs": [],
   "source": [
    "pd.options.display.max_columns = None"
   ]
  },
  {
   "cell_type": "markdown",
   "id": "699cf702-2d52-4add-bcf7-b8948a5e6931",
   "metadata": {
    "jp-MarkdownHeadingCollapsed": true
   },
   "source": [
    "# Helper functions:\n"
   ]
  },
  {
   "cell_type": "code",
   "execution_count": null,
   "id": "f0720f8a-d29f-4997-bb06-b1efaaddcc97",
   "metadata": {
    "execution": {
     "iopub.execute_input": "2024-02-15T09:08:54.677327Z",
     "iopub.status.busy": "2024-02-15T09:08:54.676326Z",
     "iopub.status.idle": "2024-02-15T09:08:54.691327Z",
     "shell.execute_reply": "2024-02-15T09:08:54.690326Z",
     "shell.execute_reply.started": "2024-02-15T09:08:54.677327Z"
    }
   },
   "outputs": [],
   "source": [
    "def get_label_freq(\n",
    "    label_array: np.array, label_value: float, normalize: bool = False\n",
    ") -> Union[int | float]:\n",
    "    \"\"\"This function calculate the frequency of a label value in a label array\n",
    "\n",
    "    Args:\n",
    "        label_array (np.array): a 1D array of labels\n",
    "        label_value (float): the label value to calculate its frequency\n",
    "        normalize (bool, optional): to retur ratio instead of raw count. Defaults to False.\n",
    "\n",
    "    Returns:\n",
    "        [int|float]: the frequency of the label value. Normalized if `normalize=True`\n",
    "    \"\"\"\n",
    "    label_freq = np.sum(label_array == label_value)\n",
    "\n",
    "    if normalize:\n",
    "        array_size = len(label_array)\n",
    "\n",
    "        return label_freq / array_size\n",
    "\n",
    "    return label_freq"
   ]
  },
  {
   "cell_type": "code",
   "execution_count": null,
   "id": "528228ff-84ac-4de7-bbf5-2a50963cb96c",
   "metadata": {
    "execution": {
     "iopub.execute_input": "2024-02-15T09:08:54.691327Z",
     "iopub.status.busy": "2024-02-15T09:08:54.691327Z",
     "iopub.status.idle": "2024-02-15T09:08:54.706327Z",
     "shell.execute_reply": "2024-02-15T09:08:54.705331Z",
     "shell.execute_reply.started": "2024-02-15T09:08:54.691327Z"
    }
   },
   "outputs": [],
   "source": [
    "def auc_pr_score(y_true: np.array, y_proba: np.array) -> float:\n",
    "    \"\"\"Calculates the Precision-Recall AUC\n",
    "\n",
    "    Args:\n",
    "        y_true (np.array): true labels\n",
    "        y_proba (np.array): prediced label probabilities\n",
    "\n",
    "    Returns:\n",
    "        float: the Area Under Curve for the Precision-Recall\n",
    "    \"\"\"\n",
    "    precision, recall, thresholds = precision_recall_curve(y_true, y_proba)\n",
    "    auc_pr = auc(recall, precision)\n",
    "    return auc_pr"
   ]
  },
  {
   "cell_type": "markdown",
   "id": "7c1fdda0-b84b-4e79-a96e-05d2cd54b038",
   "metadata": {
    "jp-MarkdownHeadingCollapsed": true
   },
   "source": [
    "# Load the data:\n"
   ]
  },
  {
   "cell_type": "code",
   "execution_count": null,
   "id": "991648b3-cbfd-4e8c-b285-8c63ae8048e6",
   "metadata": {
    "execution": {
     "iopub.execute_input": "2024-02-15T09:08:54.707327Z",
     "iopub.status.busy": "2024-02-15T09:08:54.706327Z",
     "iopub.status.idle": "2024-02-15T09:08:55.147985Z",
     "shell.execute_reply": "2024-02-15T09:08:55.147557Z",
     "shell.execute_reply.started": "2024-02-15T09:08:54.707327Z"
    }
   },
   "outputs": [],
   "source": [
    "# load the training training and test data using the `np.loadtext` method\n",
    "\n",
    "X_train = np.loadtxt(\"data/Xtrain.csv\")\n",
    "X_test = np.loadtxt(\"data/Xtest.csv\")\n",
    "y_train = np.loadtxt(\"data/Ytrain.csv\")"
   ]
  },
  {
   "cell_type": "markdown",
   "id": "6f27e788-6b1f-4125-a175-5f418abbe01b",
   "metadata": {
    "jp-MarkdownHeadingCollapsed": true
   },
   "source": [
    "# Question No. 1: Exploring data\n"
   ]
  },
  {
   "cell_type": "markdown",
   "id": "691327d5-f3dc-419d-a5e2-52bdb309d6d2",
   "metadata": {},
   "source": [
    "## Dataset Overview\n"
   ]
  },
  {
   "cell_type": "markdown",
   "id": "88eec8b5-ae70-497a-84d6-553a9b30fd83",
   "metadata": {},
   "source": [
    "### How many examples are in the training set? And in the test set?\n"
   ]
  },
  {
   "cell_type": "code",
   "execution_count": null,
   "id": "02e7aaea-e3cd-42bd-b722-7e48bcfb96f9",
   "metadata": {
    "execution": {
     "iopub.execute_input": "2024-02-15T09:08:55.149053Z",
     "iopub.status.busy": "2024-02-15T09:08:55.147985Z",
     "iopub.status.idle": "2024-02-15T09:08:55.163990Z",
     "shell.execute_reply": "2024-02-15T09:08:55.162990Z",
     "shell.execute_reply.started": "2024-02-15T09:08:55.149053Z"
    }
   },
   "outputs": [],
   "source": [
    "print(f\"Number of samples in training set: {X_train.shape[0]}\")\n",
    "print(f\"Number of samples in testing set: {X_test.shape[0]}\")"
   ]
  },
  {
   "cell_type": "markdown",
   "id": "77de7f0b-914f-4422-b78a-f6be47dbc1d6",
   "metadata": {},
   "source": [
    "We can see that the training and testing sets have equal number of examples.\n"
   ]
  },
  {
   "cell_type": "markdown",
   "id": "7a479bd7-464a-4296-8f4b-52d4455a3f88",
   "metadata": {},
   "source": [
    "### Within the training data, count the positive and negative examples. What's the distribution like? Does this distribution signify any potential issues in terms of design of the machine learning solution and its evaluation?\n"
   ]
  },
  {
   "cell_type": "markdown",
   "id": "13fa326f-9507-4c26-a6c7-603818e40eb6",
   "metadata": {},
   "source": [
    "As we know, the labels for the training data are stored in the `y_train` variable. Let's first check the distinct values in this array (to verfiy that it has only _positive_ and _negative_ labels).\n",
    "\n",
    "We can use the `np.unique` function which returns the _distinct_ values in the array:\n"
   ]
  },
  {
   "cell_type": "code",
   "execution_count": null,
   "id": "cc736cfb-c1ab-4b41-90fb-7a5b9a9a31b6",
   "metadata": {
    "execution": {
     "iopub.execute_input": "2024-02-15T09:08:55.164990Z",
     "iopub.status.busy": "2024-02-15T09:08:55.163990Z",
     "iopub.status.idle": "2024-02-15T09:08:55.178992Z",
     "shell.execute_reply": "2024-02-15T09:08:55.177989Z",
     "shell.execute_reply.started": "2024-02-15T09:08:55.164990Z"
    }
   },
   "outputs": [],
   "source": [
    "np.unique(y_train)"
   ]
  },
  {
   "cell_type": "markdown",
   "id": "bdd40810-d732-4747-b080-56dbf7b0bdc0",
   "metadata": {},
   "source": [
    "This verify that the data is binary and has only two labels.\n",
    "\n",
    "Now, let's count the number of positive and negative labels. To do so we'll use the `get_label_freq` function we defined earlier.\n"
   ]
  },
  {
   "cell_type": "code",
   "execution_count": null,
   "id": "8f025520-d093-48ee-b5a6-89153c4b0538",
   "metadata": {
    "execution": {
     "iopub.execute_input": "2024-02-15T09:08:55.178992Z",
     "iopub.status.busy": "2024-02-15T09:08:55.178992Z",
     "iopub.status.idle": "2024-02-15T09:08:55.194990Z",
     "shell.execute_reply": "2024-02-15T09:08:55.193991Z",
     "shell.execute_reply.started": "2024-02-15T09:08:55.178992Z"
    }
   },
   "outputs": [],
   "source": [
    "count_negative_samples = get_label_freq(y_train, -1)\n",
    "count_positive_samples = get_label_freq(y_train, 1)\n",
    "ratio_negative_examples = get_label_freq(y_train, -1, normalize=True)\n",
    "ratio_positive_examples = get_label_freq(y_train, 1, normalize=True)"
   ]
  },
  {
   "cell_type": "code",
   "execution_count": null,
   "id": "b7ed6807-2352-4f85-87ce-edf37ed21531",
   "metadata": {
    "execution": {
     "iopub.execute_input": "2024-02-15T09:08:55.195989Z",
     "iopub.status.busy": "2024-02-15T09:08:55.194990Z",
     "iopub.status.idle": "2024-02-15T09:08:55.209991Z",
     "shell.execute_reply": "2024-02-15T09:08:55.209991Z",
     "shell.execute_reply.started": "2024-02-15T09:08:55.195989Z"
    }
   },
   "outputs": [],
   "source": [
    "print(f\"Number of negative examples: {count_negative_samples}\")\n",
    "print(f\"Number of positive examples: {count_positive_samples}\")\n",
    "\n",
    "print(f\"Ratio of negative examples: {ratio_negative_examples}\")\n",
    "print(f\"Ratio of positive examples: {ratio_positive_examples}\")"
   ]
  },
  {
   "cell_type": "markdown",
   "id": "f3b221b0-5474-4c9a-9797-31623953f130",
   "metadata": {},
   "source": [
    "A picture is worth a thousand words! Let's visualize the distribution of the label too see how does it look like:\n"
   ]
  },
  {
   "cell_type": "code",
   "execution_count": null,
   "id": "8a60d190-d102-44c9-84f8-d1b42c972ad6",
   "metadata": {
    "execution": {
     "iopub.execute_input": "2024-02-15T09:08:55.210991Z",
     "iopub.status.busy": "2024-02-15T09:08:55.210991Z",
     "iopub.status.idle": "2024-02-15T09:08:55.384179Z",
     "shell.execute_reply": "2024-02-15T09:08:55.384179Z",
     "shell.execute_reply.started": "2024-02-15T09:08:55.210991Z"
    }
   },
   "outputs": [],
   "source": [
    "fig, (ax1, ax2) = plt.subplots(nrows=1, ncols=2, figsize=(10, 5))\n",
    "\n",
    "ax1.bar(\n",
    "    x=[\"negative\", \"positive\"],\n",
    "    height=[count_negative_samples, count_positive_samples],\n",
    "    color=[\"red\", \"green\"],\n",
    ")\n",
    "\n",
    "ax1.set_xlabel(\"Label\")\n",
    "ax1.set_ylabel(\"Number of examples\")\n",
    "ax1.set_title(\"Distribution of labels\")\n",
    "\n",
    "ax2.bar(\n",
    "    x=[\"negative\", \"positive\"],\n",
    "    height=[ratio_negative_examples, ratio_positive_examples],\n",
    "    color=[\"red\", \"green\"],\n",
    ")\n",
    "\n",
    "ax2.set_xlabel(\"Label\")\n",
    "ax2.set_ylabel(\"Percentage\")\n",
    "ax2.set_title(\"Distribution of labels\")"
   ]
  },
  {
   "cell_type": "markdown",
   "id": "cea93f0e-808e-42a2-885e-498700007b66",
   "metadata": {},
   "source": [
    "From the distribution of the labels, we can see that this a clear class-imbalance case. The positive class has about 10% ratio while the negative class has about 90% ratio.\n",
    "\n",
    "This will affect the choice of evaluation metric. For example, the accuracy metric won't be a good choice.\n"
   ]
  },
  {
   "cell_type": "markdown",
   "id": "07b4749c-4d3c-4d98-80a4-50cae45dada4",
   "metadata": {},
   "source": [
    "## Visual Data Exploration\n"
   ]
  },
  {
   "cell_type": "markdown",
   "id": "cf320b71-e244-409e-9598-1f6b00f8c80e",
   "metadata": {},
   "source": [
    "### Pick 10 random objects from each class in the **training** data and display them.\n"
   ]
  },
  {
   "cell_type": "markdown",
   "id": "fbb2234e-937b-46dd-9f73-6ae982069e22",
   "metadata": {},
   "source": [
    "To do this, we'll first select the indices of the positive and negative samples in the training data. Then, we choose from these indices 10 random elements to visualize them.\n"
   ]
  },
  {
   "cell_type": "code",
   "execution_count": null,
   "id": "56bf6e32-92af-479a-8975-b6d0a7799dd5",
   "metadata": {
    "execution": {
     "iopub.execute_input": "2024-02-15T09:08:55.385171Z",
     "iopub.status.busy": "2024-02-15T09:08:55.385171Z",
     "iopub.status.idle": "2024-02-15T09:08:55.401172Z",
     "shell.execute_reply": "2024-02-15T09:08:55.400172Z",
     "shell.execute_reply.started": "2024-02-15T09:08:55.385171Z"
    }
   },
   "outputs": [],
   "source": [
    "# select positive and negative labels' indicies using the np.where function\n",
    "positive_indices = np.where(y_train == 1)[0]\n",
    "negative_indices = np.where(y_train == -1)[0]"
   ]
  },
  {
   "cell_type": "code",
   "execution_count": null,
   "id": "e2e25027-362c-4823-8b9c-dfb5736c93b1",
   "metadata": {
    "execution": {
     "iopub.execute_input": "2024-02-15T09:08:55.403182Z",
     "iopub.status.busy": "2024-02-15T09:08:55.403182Z",
     "iopub.status.idle": "2024-02-15T09:08:55.416196Z",
     "shell.execute_reply": "2024-02-15T09:08:55.416196Z",
     "shell.execute_reply.started": "2024-02-15T09:08:55.403182Z"
    }
   },
   "outputs": [],
   "source": [
    "print(positive_indices.shape)\n",
    "print(negative_indices.shape)"
   ]
  },
  {
   "cell_type": "code",
   "execution_count": null,
   "id": "6468efc3-9b05-42c2-850a-02f791e44111",
   "metadata": {
    "execution": {
     "iopub.execute_input": "2024-02-15T09:08:55.417188Z",
     "iopub.status.busy": "2024-02-15T09:08:55.417188Z",
     "iopub.status.idle": "2024-02-15T09:08:55.431721Z",
     "shell.execute_reply": "2024-02-15T09:08:55.431721Z",
     "shell.execute_reply.started": "2024-02-15T09:08:55.417188Z"
    }
   },
   "outputs": [],
   "source": [
    "# set seed to guarantee same results\n",
    "np.random.seed(41)\n",
    "\n",
    "# select 10 random elements from each array\n",
    "sample_positive_indices = np.random.choice(positive_indices, 10, replace=False)\n",
    "sample_negative_indices = np.random.choice(negative_indices, 10, replace=False)"
   ]
  },
  {
   "cell_type": "markdown",
   "id": "f5e061f1-9de9-49cc-986c-dec026cde361",
   "metadata": {},
   "source": [
    "Visualize the 10 random positive examples:\n"
   ]
  },
  {
   "cell_type": "code",
   "execution_count": null,
   "id": "acd5006e-2bf6-43d3-8c35-0f1f389444c4",
   "metadata": {
    "execution": {
     "iopub.execute_input": "2024-02-15T09:08:55.432713Z",
     "iopub.status.busy": "2024-02-15T09:08:55.432713Z",
     "iopub.status.idle": "2024-02-15T09:08:55.860975Z",
     "shell.execute_reply": "2024-02-15T09:08:55.859975Z",
     "shell.execute_reply.started": "2024-02-15T09:08:55.432713Z"
    }
   },
   "outputs": [],
   "source": [
    "fig, ax = plt.subplots(nrows=1, ncols=10, figsize=(18, 10))\n",
    "\n",
    "for i, idx in enumerate(sample_positive_indices):\n",
    "    ax[i].matshow(X_train[idx, :].reshape(28, 28), cmap=\"gray\")\n",
    "    ax[i].axis(\"off\")\n",
    "\n",
    "plt.show()"
   ]
  },
  {
   "cell_type": "markdown",
   "id": "aec6ded8-fca4-4e7e-97d8-03193282376f",
   "metadata": {},
   "source": [
    "We notice that the **positive** examples are image of shirts, T-Shirt, jackets, and dresses.\n"
   ]
  },
  {
   "cell_type": "markdown",
   "id": "f7933072-86fc-4f31-ad9d-e889df35c6b0",
   "metadata": {},
   "source": [
    "Visualize the 10 random negative examples:\n"
   ]
  },
  {
   "cell_type": "code",
   "execution_count": null,
   "id": "f2330d91-6866-4c90-a71c-d14adf5fa464",
   "metadata": {
    "execution": {
     "iopub.execute_input": "2024-02-15T09:08:55.861975Z",
     "iopub.status.busy": "2024-02-15T09:08:55.861975Z",
     "iopub.status.idle": "2024-02-15T09:08:56.332703Z",
     "shell.execute_reply": "2024-02-15T09:08:56.331711Z",
     "shell.execute_reply.started": "2024-02-15T09:08:55.861975Z"
    }
   },
   "outputs": [],
   "source": [
    "fig, ax = plt.subplots(nrows=1, ncols=10, figsize=(18, 10))\n",
    "\n",
    "for i, idx in enumerate(sample_negative_indices):\n",
    "    ax[i].matshow(X_train[idx, :].reshape(28, 28), cmap=\"gray\")\n",
    "    ax[i].axis(\"off\")\n",
    "\n",
    "plt.show()"
   ]
  },
  {
   "cell_type": "markdown",
   "id": "3a477c16-a439-46f3-a7f1-facde679e46e",
   "metadata": {},
   "source": [
    "The **negative** examples are for shoes/sneakers, bags, trousers, but also contain pullovers and dresses\n"
   ]
  },
  {
   "cell_type": "markdown",
   "id": "4d36b345-484c-447a-b1bc-c685b73d2a4b",
   "metadata": {},
   "source": [
    "After inspecting the positive and negative examples, we notice that there is an overlap of images labeled as negative and positive.\n",
    "\n",
    "The positive examples are generally for tops (shirts, jackets, pullovers) and negative examples are for anything else (trousers, bag, shoes).\n",
    "\n",
    "However, from the previous plot we saw that negative data contains images of two jackets and one t-shirt. This will make it harder for the classifier to distinguish between positive and negative classes.\n"
   ]
  },
  {
   "cell_type": "markdown",
   "id": "9778a8ef-8e68-4a8e-b50f-08579b1e2e83",
   "metadata": {},
   "source": [
    "### Do the same for 10 random objects from the test set. Are there any peculiarities in the data that might challenge your classifier's ability to generalise?\n"
   ]
  },
  {
   "cell_type": "code",
   "execution_count": null,
   "id": "403c910d-febe-4043-a3d4-73af45833ae9",
   "metadata": {
    "execution": {
     "iopub.execute_input": "2024-02-15T09:08:56.333712Z",
     "iopub.status.busy": "2024-02-15T09:08:56.332703Z",
     "iopub.status.idle": "2024-02-15T09:08:56.757288Z",
     "shell.execute_reply": "2024-02-15T09:08:56.756295Z",
     "shell.execute_reply.started": "2024-02-15T09:08:56.333712Z"
    }
   },
   "outputs": [],
   "source": [
    "np.random.seed(41)\n",
    "\n",
    "sample_indices = np.random.choice(np.arange(X_test.shape[0]), size=10, replace=False)\n",
    "\n",
    "fig, ax = plt.subplots(nrows=1, ncols=10, figsize=(18, 14))\n",
    "\n",
    "for i, idx in enumerate(sample_indices):\n",
    "    ax[i].matshow(X_test[idx, :].reshape(28, 28), cmap=\"gray\")\n",
    "    ax[i].axis(\"off\")\n",
    "\n",
    "plt.show()"
   ]
  },
  {
   "cell_type": "markdown",
   "id": "c7551e76-de0f-416e-a525-f6611f353065",
   "metadata": {},
   "source": [
    "The test data seems that it contains images of same objects as training data (shirt, bag, shoe, etc). However, the images are **rotated** and have some **white noise pixels** (possibly salt and pepper noise).\n",
    "\n",
    "A _googd_ classifier should be able to identify these images even after rotation. The classifier should learn features related to the structure of the object, and it should be rotation-invariant.\n"
   ]
  },
  {
   "cell_type": "markdown",
   "id": "0665c556-de26-470b-becf-d5802110ca7a",
   "metadata": {},
   "source": [
    "## Choosing the Right Metric\n"
   ]
  },
  {
   "cell_type": "markdown",
   "id": "76bc3b5a-e1ce-40e0-aea6-727c860e126e",
   "metadata": {},
   "source": [
    "### Which performance metric would be best for this task (accuracy, AUC-ROC, AUC-PR, F1, Matthews correlation coefficient, mean squared error etc.)? Share your reasoning for this choice.\n"
   ]
  },
  {
   "cell_type": "markdown",
   "id": "8fe9041e-8566-4814-8523-48ebf5d8c7f3",
   "metadata": {},
   "source": [
    "As stated before, this is an imbalanced dataset, and therefore, the accuracy metric would be simply misleading. A classifier that always predicts the negative class (-1) would achieve 90% accuracy.\n",
    "\n",
    "1. AUC-ROC: this metric plots **true positive rate** against **false positive rate** for different classification threshold. This metric doesn't take into account the _false negative_. False negative is the number of examples classified as negative while their actual class is positive. Given that the ratio of positive examples is very small (311 out of 3000) we care very much about accurately identifying these positive examples.\n",
    "\n",
    "2. Precision-Recall AUC: this metrics computes the area under the precision-recall curve. Recall is the same as true positive rate mentioned in previous metric. Unlike the previous metric, here, precision take the false negative into account. Precision is the ratio of true positive to all positive. Higher precision means classifier is more sure about its prediction.\n",
    "\n",
    "In this example, given that our dataset is very imbalanced and assuming that we care about identifying the minority class, the Precision-Recall AUC metric would be a better option.\n",
    "\n",
    "Let's take the following example to show the difference between the two metrics:\n",
    "\n",
    "Suppose we have two classifiers: **SVM** and **KNN**, and they have the following results:\n",
    "\n",
    "|     |  SVM |  KNN |\n",
    "| :-- | ---: | ---: |\n",
    "| TP  |  250 |  200 |\n",
    "| FN  |   61 |  111 |\n",
    "| FP  |  250 |    0 |\n",
    "| TN  | 2439 | 2689 |\n",
    "\n",
    "Then **SVM** will have `TPR=0.80` and `FPR=0.09` and **KNN** will have `TPR=0.64` and `FPR=0`\n",
    "\n",
    "For the Precsion-Recall, **SVM** will have `precision=0.5` and `recall=0.80` and **KNN** will have `precision=1` and `FPR=0.64`\n"
   ]
  },
  {
   "cell_type": "markdown",
   "id": "a913b8a0-c096-4ddd-be79-0173d2c7a72e",
   "metadata": {},
   "source": [
    "## Benchmarking a Random Classifier\n"
   ]
  },
  {
   "cell_type": "markdown",
   "id": "8e718332-6895-4d07-bbe0-b4e47e9b6df1",
   "metadata": {},
   "source": [
    "### Imagine a classifier that randomly guesses labels. What accuracy would you expect it to achieve on both the training and test datasets? Show this through a calculation, statistical proof, or a coding experiment.\n"
   ]
  },
  {
   "cell_type": "markdown",
   "id": "5a7b9c53-578d-4452-a601-d2cdccfd537d",
   "metadata": {},
   "source": [
    "## Understanding AUC Metrics for Random Classifier\n"
   ]
  },
  {
   "cell_type": "markdown",
   "id": "39f0608d-6320-49d5-b96c-b17af9c173b8",
   "metadata": {},
   "source": [
    "### What would be the AUC-ROC and AUC-PR for a random classifier in this context? Again, support your answer with a mathematical or statistical argument, or a practical demonstration.\n"
   ]
  },
  {
   "cell_type": "markdown",
   "id": "0c76341a-3a11-4bb9-9e6d-6ebeafa912c8",
   "metadata": {},
   "source": [
    "# Question No. 2: Nearest Neighbour Classifier\n"
   ]
  },
  {
   "cell_type": "markdown",
   "id": "8f642645-11f3-4d2e-82d1-93abc95345f1",
   "metadata": {},
   "source": [
    "First, let's define each evaluation metric:\n",
    "\n",
    "1. Accuracy: the accuracy is the simplest metric. It is the ratio of correctly classified samples over all samples.\n",
    "2. Balanced Accuracy: the sume of **true positive rate (TPR)** and **true negative rate (TNR)** divided by 2. Here, **TPR** is the number of true positive divided by total positive, and **TNR** is the number of true negative divided by total negative.\n",
    "3. AUC-ROC: area under the receiver operating characteristic curve. The roc curve plots the **true positive rate (TPR)** against **false positive rate (FPR)**.\n",
    "4. AUC-PR: area under the precision-recall curve. The precision-recall curve plots the **Precision** against **Recall**. Recall is same as true positive rate.\n",
    "5. F1: harmonic mean of precision and recall.\n",
    "6. Matthews Correlation Coefficient:\n"
   ]
  },
  {
   "cell_type": "markdown",
   "id": "81eae31b-f8f3-4c1f-8e37-368f9cebb853",
   "metadata": {},
   "source": [
    "Performing Stratified Cross Validation on the _training_ data.\n"
   ]
  },
  {
   "cell_type": "code",
   "execution_count": null,
   "id": "8aa313ab-5ee9-4c30-8302-12bdab87bb2b",
   "metadata": {
    "execution": {
     "iopub.execute_input": "2024-02-15T09:08:56.758307Z",
     "iopub.status.busy": "2024-02-15T09:08:56.758307Z",
     "iopub.status.idle": "2024-02-15T09:08:56.773287Z",
     "shell.execute_reply": "2024-02-15T09:08:56.772298Z",
     "shell.execute_reply.started": "2024-02-15T09:08:56.758307Z"
    }
   },
   "outputs": [],
   "source": [
    "# 5-fold stratified cross-validation\n",
    "skf = StratifiedKFold(n_splits=5, shuffle=True, random_state=42)"
   ]
  },
  {
   "cell_type": "code",
   "execution_count": null,
   "id": "c26ee846-1c0c-4423-8f3c-0e33a16dd7a7",
   "metadata": {
    "execution": {
     "iopub.execute_input": "2024-02-15T09:08:56.774288Z",
     "iopub.status.busy": "2024-02-15T09:08:56.773287Z",
     "iopub.status.idle": "2024-02-15T09:08:57.169669Z",
     "shell.execute_reply": "2024-02-15T09:08:57.168671Z",
     "shell.execute_reply.started": "2024-02-15T09:08:56.774288Z"
    }
   },
   "outputs": [],
   "source": [
    "# perform 5 folds cross validation on the *training* data and store the metrics in the `folds_results` list\n",
    "\n",
    "folds_results = []\n",
    "\n",
    "for fold, (train_index, test_index) in enumerate(skf.split(X_train, y_train)):\n",
    "    # build the corresponding training and \"validation\" data\n",
    "    X_train_fold, y_train_fold = X_train[train_index], y_train[train_index]\n",
    "    X_test_fold, y_test_fold = X_train[test_index], y_train[test_index]\n",
    "\n",
    "    # print label percentage for debugging\n",
    "    print(f\"Fold: {fold + 1}\")\n",
    "    print(\n",
    "        f\"Percentage of positive class in training data: {get_label_freq(y_train_fold, 1, True):.2f}\"\n",
    "    )\n",
    "    print(\n",
    "        f\"Percentage of negative class in training data: {get_label_freq(y_train_fold, -1, True):.2f}\"\n",
    "    )\n",
    "\n",
    "    print(\n",
    "        f\"Percentage of positive class in validation data: {get_label_freq(y_test_fold, 1, True):.2f}\"\n",
    "    )\n",
    "    print(\n",
    "        f\"Percentage of negative class in validation data: {get_label_freq(y_test_fold, -1, True):.2f}\"\n",
    "    )\n",
    "\n",
    "    print(\"==\" * 30)\n",
    "\n",
    "    # define 5 nearest neighbors classifier\n",
    "    knn = KNeighborsClassifier(n_neighbors=5)\n",
    "\n",
    "    # fit the classifier to the training data\n",
    "    knn.fit(X_train_fold, y_train_fold)\n",
    "\n",
    "    # get predictions on the validation data\n",
    "    y_pred_fold = knn.predict(X_test_fold)\n",
    "\n",
    "    # get prediction probabilities on the validation data\n",
    "    # for calculating AUC-ROC and AUC-PR metrics\n",
    "    y_pred_proba_fold = knn.predict_proba(X_test_fold)\n",
    "\n",
    "    folds_results.append(\n",
    "        {\n",
    "            \"fold\": fold + 1,\n",
    "            \"accuracy\": accuracy_score(y_test_fold, y_pred_fold),\n",
    "            \"balanced_accuracy\": balanced_accuracy_score(y_test_fold, y_pred_fold),\n",
    "            \"roc_auc\": roc_auc_score(y_test_fold, y_pred_proba_fold[:, 1]),\n",
    "            \"pr_auc\": auc_pr_score(y_test_fold, y_pred_proba_fold[:, 1]),\n",
    "            \"f1_score\": f1_score(y_test_fold, y_pred_fold),\n",
    "            \"matthews_correlation_coefficient\": matthews_corrcoef(\n",
    "                y_test_fold, y_pred_fold\n",
    "            ),\n",
    "        }\n",
    "    )"
   ]
  },
  {
   "cell_type": "code",
   "execution_count": null,
   "id": "83a44289-922c-491a-8eeb-a1a30fa3094e",
   "metadata": {
    "execution": {
     "iopub.execute_input": "2024-02-15T09:08:57.170669Z",
     "iopub.status.busy": "2024-02-15T09:08:57.170669Z",
     "iopub.status.idle": "2024-02-15T09:08:57.183668Z",
     "shell.execute_reply": "2024-02-15T09:08:57.183668Z",
     "shell.execute_reply.started": "2024-02-15T09:08:57.170669Z"
    }
   },
   "outputs": [],
   "source": [
    "metrics_df = pd.DataFrame(folds_results)"
   ]
  },
  {
   "cell_type": "markdown",
   "id": "f5814f02-ee24-412a-b607-6f4c76a15770",
   "metadata": {},
   "source": [
    "Let's show the evaluation metrics for each fold:\n"
   ]
  },
  {
   "cell_type": "code",
   "execution_count": null,
   "id": "1626516c-b5d6-462e-b581-8151588d38a9",
   "metadata": {
    "execution": {
     "iopub.execute_input": "2024-02-15T09:08:57.185674Z",
     "iopub.status.busy": "2024-02-15T09:08:57.184671Z",
     "iopub.status.idle": "2024-02-15T09:08:57.199669Z",
     "shell.execute_reply": "2024-02-15T09:08:57.199669Z",
     "shell.execute_reply.started": "2024-02-15T09:08:57.185674Z"
    }
   },
   "outputs": [],
   "source": [
    "metrics_df"
   ]
  },
  {
   "cell_type": "code",
   "execution_count": null,
   "id": "c67c23c6-2398-4530-9b34-eafc2a57892b",
   "metadata": {
    "execution": {
     "iopub.execute_input": "2024-02-15T09:08:57.201670Z",
     "iopub.status.busy": "2024-02-15T09:08:57.200669Z",
     "iopub.status.idle": "2024-02-15T09:08:57.216673Z",
     "shell.execute_reply": "2024-02-15T09:08:57.215674Z",
     "shell.execute_reply.started": "2024-02-15T09:08:57.201670Z"
    }
   },
   "outputs": [],
   "source": [
    "metrics_statistics_df = pd.DataFrame(\n",
    "    data=[metrics_df.mean(), metrics_df.std()], index=[\"mean\", \"standard_deviation\"]\n",
    ").drop(columns=[\"fold\"])"
   ]
  },
  {
   "cell_type": "markdown",
   "id": "b3c3f216-4fac-44fe-952c-49d5f93804fe",
   "metadata": {},
   "source": [
    "Let's show the variation (mean and standard deviation) of each metric to better understand our results:\n"
   ]
  },
  {
   "cell_type": "code",
   "execution_count": null,
   "id": "8640640b-00d8-495b-897e-839c3da9c88f",
   "metadata": {
    "execution": {
     "iopub.execute_input": "2024-02-15T09:08:57.217673Z",
     "iopub.status.busy": "2024-02-15T09:08:57.217673Z",
     "iopub.status.idle": "2024-02-15T09:08:57.231177Z",
     "shell.execute_reply": "2024-02-15T09:08:57.231177Z",
     "shell.execute_reply.started": "2024-02-15T09:08:57.217673Z"
    }
   },
   "outputs": [],
   "source": [
    "metrics_statistics_df"
   ]
  },
  {
   "cell_type": "markdown",
   "id": "0d4468a8-16d6-419b-ada2-8a26b67ee329",
   "metadata": {},
   "source": [
    "From the above table we see that, as expected, accuracy is very high and with very small variability among different folds.\n",
    "\n",
    "Other metrics are relatively high, but not very good. This shows that a KNN classifier can serve as a baseline model.\n"
   ]
  },
  {
   "cell_type": "markdown",
   "id": "c1c3ace6-657b-48ee-9c48-40ad5c409511",
   "metadata": {},
   "source": [
    "## Plotting ROC and PR curves:\n"
   ]
  },
  {
   "cell_type": "markdown",
   "id": "91d900c0-4587-4362-b9a8-ea07c0cbc189",
   "metadata": {},
   "source": [
    "To plot the ROC and PR curves for one fold, we will utilize the `RocCurveDisplay` and `PrecisionRecallDisplay` classes from sklearn.\n"
   ]
  },
  {
   "cell_type": "code",
   "execution_count": null,
   "id": "a3c060a5-febc-422f-a638-d8622d066557",
   "metadata": {
    "execution": {
     "iopub.execute_input": "2024-02-15T09:08:57.232178Z",
     "iopub.status.busy": "2024-02-15T09:08:57.232178Z",
     "iopub.status.idle": "2024-02-15T09:08:57.501374Z",
     "shell.execute_reply": "2024-02-15T09:08:57.500389Z",
     "shell.execute_reply.started": "2024-02-15T09:08:57.232178Z"
    }
   },
   "outputs": [],
   "source": [
    "fig, (ax1, ax2) = plt.subplots(nrows=1, ncols=2, figsize=(12, 8))\n",
    "\n",
    "RocCurveDisplay.from_estimator(\n",
    "    estimator=knn, X=X_test_fold, y=y_test_fold, plot_chance_level=True, ax=ax1\n",
    ")\n",
    "\n",
    "PrecisionRecallDisplay.from_estimator(\n",
    "    estimator=knn, X=X_test_fold, y=y_test_fold, plot_chance_level=True, ax=ax2\n",
    ")\n",
    "\n",
    "ax1.set_title(\"ROC curve\")\n",
    "ax2.set_title(\"Precision-Recall curve\")\n",
    "\n",
    "plt.show()"
   ]
  },
  {
   "cell_type": "markdown",
   "id": "b5ac1bed-ce6f-4848-a915-7ef14ab9db2a",
   "metadata": {},
   "source": [
    "For the ROC curve, we want the curve to be as close as possible to the upper left corner (0 on x-axis and 1 on y-axis). This point is the ideal point where the classifier has perfect true positive rate equal to 1 and false positive rate equal to 0.\n",
    "\n",
    "The KNN classifier has a good threshold where true positive rate is equal (or close) to `0.8` and false positive rate is equal (or close) to `0.2`. Beyond this point the classifier becomes more _steep_ towards higher values of false positive rate.\n",
    "\n",
    "We can also see that the curve is above the random classifier curve and it has AUC = 0.82.\n"
   ]
  },
  {
   "cell_type": "markdown",
   "id": "663079d4-c3db-41f5-be25-be800284998b",
   "metadata": {},
   "source": [
    "For the PR curve, we notice that precision immediately drops to 0.7 for recall = 0.1.\n",
    "\n",
    "The precision becomes very low for recall = 0.6\n",
    "\n",
    "A good classifier should have relatively high precision (0.8-1) for high recall values (0.8-1).\n",
    "\n",
    "In other words, we can say that for our KNN classifier, once it starts to retrieve more positive classes, its prediction accuracy degrades. That is the number of false positive becomes higher.\n"
   ]
  },
  {
   "cell_type": "markdown",
   "id": "ce9e82cd-b45d-4b6d-a050-c419b3666271",
   "metadata": {},
   "source": [
    "To further aid our understanding of the model performance, we show the confusion matrix which shows the different type of errors:\n"
   ]
  },
  {
   "cell_type": "code",
   "execution_count": null,
   "id": "88a9573b-40c7-41e8-be38-024deba84617",
   "metadata": {
    "execution": {
     "iopub.execute_input": "2024-02-15T09:08:57.502377Z",
     "iopub.status.busy": "2024-02-15T09:08:57.501374Z",
     "iopub.status.idle": "2024-02-15T09:08:57.658415Z",
     "shell.execute_reply": "2024-02-15T09:08:57.658415Z",
     "shell.execute_reply.started": "2024-02-15T09:08:57.502377Z"
    }
   },
   "outputs": [],
   "source": [
    "ConfusionMatrixDisplay.from_estimator(\n",
    "    estimator=knn, X=X_test_fold, y=y_test_fold, labels=[1, -1], normalize=\"all\"\n",
    ")"
   ]
  },
  {
   "cell_type": "markdown",
   "id": "e1ed769e-ac99-4ff8-ad40-5cfd4ac4c42e",
   "metadata": {},
   "source": [
    "## Studying the effect of different pre-processing approaches:\n"
   ]
  },
  {
   "cell_type": "markdown",
   "id": "fd992bf8-039e-44cb-9e8f-4b10f246d555",
   "metadata": {},
   "source": [
    "To understand how different pre-processing techniques affect the classification performance, we need to repeatedly apply a pre-processing technique then perform cross validation and calculate the mean values for our evaluation metrics.\n",
    "\n",
    "Luckily, we can use `GridSearchCV` and treat the pre-processing method as a hyperparameter that we're interested in finding the best value for.\n",
    "\n",
    "To do this, we use `Pipeline`. `Pipeline` is a way to encapsulate several pre-processing stpes with a classifier into one single object. Here, our pipeline consists of simply two steps:\n",
    "\n",
    "1. `preprocessor`: the pre-processing function to apply on the data.\n",
    "2. `classifier`: the KNN classifier.\n",
    "\n",
    "We search for different possible values for the `preprocesser` _hyperparameter_.\n"
   ]
  },
  {
   "cell_type": "code",
   "execution_count": null,
   "id": "07f211f2-0005-42bd-a44e-17baf04deb99",
   "metadata": {
    "execution": {
     "iopub.execute_input": "2024-02-15T09:08:57.659415Z",
     "iopub.status.busy": "2024-02-15T09:08:57.659415Z",
     "iopub.status.idle": "2024-02-15T09:08:57.674421Z",
     "shell.execute_reply": "2024-02-15T09:08:57.674421Z",
     "shell.execute_reply.started": "2024-02-15T09:08:57.659415Z"
    }
   },
   "outputs": [],
   "source": [
    "# define a pipeline object\n",
    "# first step is pre-processing the data\n",
    "# second step is classification\n",
    "pipeline = Pipeline(\n",
    "    [\n",
    "        (\"preprocessor\", StandardScaler(with_mean=False, with_std=False)),\n",
    "        (\"classifier\", KNeighborsClassifier(n_neighbors=5)),\n",
    "    ]\n",
    ")"
   ]
  },
  {
   "cell_type": "code",
   "execution_count": null,
   "id": "ee300016-849a-43b4-9225-778c46de4b85",
   "metadata": {
    "execution": {
     "iopub.execute_input": "2024-02-15T09:08:57.676413Z",
     "iopub.status.busy": "2024-02-15T09:08:57.675414Z",
     "iopub.status.idle": "2024-02-15T09:08:57.690422Z",
     "shell.execute_reply": "2024-02-15T09:08:57.690422Z",
     "shell.execute_reply.started": "2024-02-15T09:08:57.676413Z"
    }
   },
   "outputs": [],
   "source": [
    "# the param_grid tells the grid search what parameters to search for\n",
    "# here, we are interested in the different approaches for pre-processing\n",
    "param_grid = [\n",
    "    {\n",
    "        \"preprocessor\": [\n",
    "            StandardScaler(with_mean=True, with_std=True),\n",
    "            StandardScaler(with_mean=True, with_std=False),\n",
    "            StandardScaler(with_mean=False, with_std=True),\n",
    "            StandardScaler(\n",
    "                with_mean=False, with_std=False\n",
    "            ),  # effectively no pre-processing\n",
    "            MinMaxScaler(),\n",
    "            MaxAbsScaler(),\n",
    "            Normalizer(norm=\"l1\"),\n",
    "            Normalizer(norm=\"l2\"),\n",
    "        ],\n",
    "    }\n",
    "]"
   ]
  },
  {
   "cell_type": "code",
   "execution_count": null,
   "id": "e31285e9-e22a-4ca2-9a71-f59133cedb22",
   "metadata": {
    "execution": {
     "iopub.execute_input": "2024-02-15T09:08:57.691415Z",
     "iopub.status.busy": "2024-02-15T09:08:57.691415Z",
     "iopub.status.idle": "2024-02-15T09:08:57.707415Z",
     "shell.execute_reply": "2024-02-15T09:08:57.706422Z",
     "shell.execute_reply.started": "2024-02-15T09:08:57.691415Z"
    }
   },
   "outputs": [],
   "source": [
    "grid_search = GridSearchCV(\n",
    "    pipeline,\n",
    "    param_grid,\n",
    "    cv=5,\n",
    "    scoring={\n",
    "        \"accuracy\": make_scorer(accuracy_score),\n",
    "        \"balanced_accuracy\": make_scorer(balanced_accuracy_score),\n",
    "        \"roc_auc\": make_scorer(roc_auc_score, response_method=\"predict_proba\"),\n",
    "        \"pr_auc\": make_scorer(auc_pr_score, response_method=\"predict_proba\"),\n",
    "        \"f1_score\": make_scorer(f1_score),\n",
    "        \"matthews_correlation_coefficient\": make_scorer(matthews_corrcoef),\n",
    "    },\n",
    "    refit=False,\n",
    "    verbose=1,\n",
    ")"
   ]
  },
  {
   "cell_type": "code",
   "execution_count": null,
   "id": "f5e2cb79-6661-40b6-8f68-77d3c3756156",
   "metadata": {
    "execution": {
     "iopub.execute_input": "2024-02-15T09:08:57.708415Z",
     "iopub.status.busy": "2024-02-15T09:08:57.707415Z",
     "iopub.status.idle": "2024-02-15T09:09:00.702624Z",
     "shell.execute_reply": "2024-02-15T09:09:00.701623Z",
     "shell.execute_reply.started": "2024-02-15T09:08:57.708415Z"
    }
   },
   "outputs": [],
   "source": [
    "grid_search.fit(X_train, y_train)"
   ]
  },
  {
   "cell_type": "code",
   "execution_count": null,
   "id": "29ec81b4-ccba-4c1e-9e1d-38d14be7e3ff",
   "metadata": {
    "execution": {
     "iopub.execute_input": "2024-02-15T09:09:00.703627Z",
     "iopub.status.busy": "2024-02-15T09:09:00.703627Z",
     "iopub.status.idle": "2024-02-15T09:09:00.718632Z",
     "shell.execute_reply": "2024-02-15T09:09:00.717632Z",
     "shell.execute_reply.started": "2024-02-15T09:09:00.703627Z"
    }
   },
   "outputs": [],
   "source": [
    "grid_search_results = pd.DataFrame(grid_search.cv_results_)"
   ]
  },
  {
   "cell_type": "code",
   "execution_count": null,
   "id": "743f4fab-c4b8-4dd4-afe6-905d9d30e3cf",
   "metadata": {
    "execution": {
     "iopub.execute_input": "2024-02-15T09:09:00.719632Z",
     "iopub.status.busy": "2024-02-15T09:09:00.719632Z",
     "iopub.status.idle": "2024-02-15T09:09:00.734657Z",
     "shell.execute_reply": "2024-02-15T09:09:00.733658Z",
     "shell.execute_reply.started": "2024-02-15T09:09:00.719632Z"
    }
   },
   "outputs": [],
   "source": [
    "grid_search_results_plot = (\n",
    "    grid_search_results[\n",
    "        [\n",
    "            \"mean_test_accuracy\",\n",
    "            \"mean_test_balanced_accuracy\",\n",
    "            \"mean_test_roc_auc\",\n",
    "            \"mean_test_pr_auc\",\n",
    "            \"mean_test_f1_score\",\n",
    "            \"mean_test_matthews_correlation_coefficient\",\n",
    "        ]\n",
    "    ]\n",
    "    .set_index(grid_search_results[\"param_preprocessor\"].astype(\"str\"))\n",
    "    .sort_values(by=\"mean_test_pr_auc\", ascending=False)\n",
    ")"
   ]
  },
  {
   "cell_type": "code",
   "execution_count": null,
   "id": "cb745b19-136f-4994-9d26-163747828caf",
   "metadata": {
    "execution": {
     "iopub.execute_input": "2024-02-15T09:09:00.735659Z",
     "iopub.status.busy": "2024-02-15T09:09:00.735659Z",
     "iopub.status.idle": "2024-02-15T09:09:00.971586Z",
     "shell.execute_reply": "2024-02-15T09:09:00.971586Z",
     "shell.execute_reply.started": "2024-02-15T09:09:00.735659Z"
    }
   },
   "outputs": [],
   "source": [
    "plt.figure(figsize=(10, 5))\n",
    "\n",
    "chart = sns.heatmap(\n",
    "    data=grid_search_results_plot,\n",
    "    vmin=0,\n",
    "    vmax=1,\n",
    "    annot=True,\n",
    "    cmap=\"viridis\",\n",
    ")\n",
    "\n",
    "chart.set_xticklabels(\n",
    "    chart.get_xticklabels(),\n",
    "    rotation=45,\n",
    "    horizontalalignment=\"right\",\n",
    "    fontweight=\"light\",\n",
    "    fontsize=\"small\",\n",
    ")"
   ]
  },
  {
   "cell_type": "markdown",
   "id": "2f47be3a-9134-4498-9d2e-0a2377832afd",
   "metadata": {},
   "source": [
    "We quickly see that applying the `Normalizer` improve the results of AUC-PC.\n",
    "\n",
    "Also, `StandardScaler` delivers performance improvement.\n",
    "\n",
    "Basically, both of these approaches re-scales the images values to smaller range (0-1). This rescaling makes the algorithm more robust and reduces the effect of bigger values in the image intensities.\n",
    "\n",
    "KNN algorithm calculate the distance for each sample between its _k_ neighbors. This distance calculation is very much influenced by the values of the feature vecotrs. Scaling ensures that features are on the same range and contribute equally to the distance.\n"
   ]
  },
  {
   "cell_type": "markdown",
   "id": "0f6ffa7f-9504-42e0-9e0f-795c642660d8",
   "metadata": {},
   "source": [
    "Let's plot the results of normalization and scaling to understand their impacts on images:\n"
   ]
  },
  {
   "cell_type": "code",
   "execution_count": null,
   "id": "f9828d80-2909-4642-a731-4d7723a4c2d7",
   "metadata": {
    "execution": {
     "iopub.execute_input": "2024-02-15T09:09:00.972585Z",
     "iopub.status.busy": "2024-02-15T09:09:00.972585Z",
     "iopub.status.idle": "2024-02-15T09:09:00.987585Z",
     "shell.execute_reply": "2024-02-15T09:09:00.987585Z",
     "shell.execute_reply.started": "2024-02-15T09:09:00.972585Z"
    }
   },
   "outputs": [],
   "source": [
    "normalizer = Normalizer()\n",
    "scaler = StandardScaler()"
   ]
  },
  {
   "cell_type": "code",
   "execution_count": null,
   "id": "8a4f1792-83d7-4a6c-9ba7-25f5a7767553",
   "metadata": {
    "execution": {
     "iopub.execute_input": "2024-02-15T09:09:00.988586Z",
     "iopub.status.busy": "2024-02-15T09:09:00.988586Z",
     "iopub.status.idle": "2024-02-15T09:09:01.034761Z",
     "shell.execute_reply": "2024-02-15T09:09:01.033756Z",
     "shell.execute_reply.started": "2024-02-15T09:09:00.988586Z"
    }
   },
   "outputs": [],
   "source": [
    "X_train_normalized = normalizer.fit_transform(X_train)\n",
    "X_train_scaled = scaler.fit_transform(X_train)"
   ]
  },
  {
   "cell_type": "code",
   "execution_count": null,
   "id": "c63da583-af73-4d61-bb52-4b0a49f69c80",
   "metadata": {
    "execution": {
     "iopub.execute_input": "2024-02-15T09:09:01.034761Z",
     "iopub.status.busy": "2024-02-15T09:09:01.034761Z",
     "iopub.status.idle": "2024-02-15T09:09:01.253345Z",
     "shell.execute_reply": "2024-02-15T09:09:01.253345Z",
     "shell.execute_reply.started": "2024-02-15T09:09:01.034761Z"
    }
   },
   "outputs": [],
   "source": [
    "fig, ax = plt.subplots(nrows=1, ncols=3, figsize=(6, 12))\n",
    "\n",
    "\n",
    "ax[0].matshow(X_train[0, :].reshape(28, 28), cmap=\"gray\")\n",
    "ax[0].axis(\"off\")\n",
    "ax[0].set_title(\"Original image\")\n",
    "\n",
    "ax[1].matshow(X_train_normalized[0, :].reshape(28, 28), cmap=\"gray\")\n",
    "ax[1].axis(\"off\")\n",
    "ax[1].set_title(\"Normalized image\")\n",
    "\n",
    "ax[2].matshow(X_train_scaled[0, :].reshape(28, 28), cmap=\"gray\")\n",
    "ax[2].axis(\"off\")\n",
    "ax[2].set_title(\"Scaled image\")\n",
    "\n",
    "plt.tight_layout()\n",
    "plt.show()"
   ]
  },
  {
   "cell_type": "markdown",
   "id": "66346ed9-eefa-4a7c-9855-6bbe15475054",
   "metadata": {},
   "source": [
    "# Question No. 3: Cross-validation of SVM and RFs\n"
   ]
  },
  {
   "cell_type": "markdown",
   "id": "dd09e3a4-f47d-48db-845c-83b9e36d7281",
   "metadata": {},
   "source": [
    "In this section, we'll study the performance of SVM and Random Forests classifiers.\n",
    "\n",
    "Each of these classifiers has its own _hyperparameters_. In addition, SVM has a `decision_function` for calculating prediction probabilities while Random Forest must use the `predict_proba` function. We distinguish between the two by specifying evaluation metrics for each classifier separately.\n",
    "\n",
    "Lastly, we need to also study the impact of any pre-processing method before fitting a classifier. Therefore, we (again) utilize a pipeline consisting of two steps: `preprocessor` and `classifier`.\n",
    "\n",
    "Our goal is to tune the possible hyperparameters of this pipeline and report the different evaluation metrics to find the set of best performing classifiers.\n",
    "\n",
    "1. Pre-processing: for pre-processing we have three options: `StandardScaler`, `MinMaxScaler`, and `Normalizer`.\n",
    "2. SVM: for svm, we have three different types of kernels (`linear`, `poly`, and `rbf`). For each kernel type, there is a set of hyperparameters. The best way to tune SVM is to define three `param_grid`s, one for each kernel. Each `param_grid` has a set of hyperparameters for the corresponding kernel type (degree for `poly` kernel, `gamma` for `poly` and `rbf`, and so on).\n",
    "3. Random Forests: the random forest has only two important hyperparameters: `n_estimators`, `max_depth`.\n"
   ]
  },
  {
   "cell_type": "markdown",
   "id": "cb9d4935-79e7-4ee3-ad8a-8a41216e6fde",
   "metadata": {},
   "source": [
    "Given that each classifier has a different set of hyperparameters, we'll define two `Pipeline` object and perform tuning on each one, and eventually compare the results of best performing classifiers for both SVM and Random Forests.\n",
    "\n",
    "We'll consider the Precision-Recall AUC the metric to compare different classifiers.\n"
   ]
  },
  {
   "cell_type": "code",
   "execution_count": null,
   "id": "43add076-73f4-45da-8231-0a160e58cbd1",
   "metadata": {
    "execution": {
     "iopub.execute_input": "2024-02-15T09:09:01.254337Z",
     "iopub.status.busy": "2024-02-15T09:09:01.254337Z",
     "iopub.status.idle": "2024-02-15T09:09:01.270347Z",
     "shell.execute_reply": "2024-02-15T09:09:01.269345Z",
     "shell.execute_reply.started": "2024-02-15T09:09:01.254337Z"
    }
   },
   "outputs": [],
   "source": [
    "svm_pipeline = Pipeline(\n",
    "    [\n",
    "        (\"preprocessor\", StandardScaler()),\n",
    "        (\"classifier\", SVC()),\n",
    "    ]\n",
    ")"
   ]
  },
  {
   "cell_type": "code",
   "execution_count": null,
   "id": "34f2579a-be8c-45d7-abe7-9bd322fbcdf3",
   "metadata": {
    "execution": {
     "iopub.execute_input": "2024-02-15T09:09:01.271337Z",
     "iopub.status.busy": "2024-02-15T09:09:01.271337Z",
     "iopub.status.idle": "2024-02-15T09:09:01.284346Z",
     "shell.execute_reply": "2024-02-15T09:09:01.284346Z",
     "shell.execute_reply.started": "2024-02-15T09:09:01.271337Z"
    }
   },
   "outputs": [],
   "source": [
    "rf_pipeline = Pipeline(\n",
    "    [\n",
    "        (\"preprocessor\", StandardScaler()),\n",
    "        (\"classifier\", RandomForestClassifier()),\n",
    "    ]\n",
    ")"
   ]
  },
  {
   "cell_type": "code",
   "execution_count": null,
   "id": "7426302b-84dc-4762-8f6f-8f302a3bab06",
   "metadata": {
    "execution": {
     "iopub.execute_input": "2024-02-15T09:09:01.285337Z",
     "iopub.status.busy": "2024-02-15T09:09:01.285337Z",
     "iopub.status.idle": "2024-02-15T09:09:01.301337Z",
     "shell.execute_reply": "2024-02-15T09:09:01.300338Z",
     "shell.execute_reply.started": "2024-02-15T09:09:01.285337Z"
    }
   },
   "outputs": [],
   "source": [
    "# define parameter grid for SVM\n",
    "# a list of three dictionaries\n",
    "# each dictionary correspond to a kernel type\n",
    "svm_param_grid = [\n",
    "    # linear kernel\n",
    "    {\n",
    "        \"preprocessor\": [\n",
    "            StandardScaler(),\n",
    "            MinMaxScaler(),\n",
    "            Normalizer(),\n",
    "        ],\n",
    "        \"classifier\": [SVC(kernel=\"linear\")],\n",
    "        \"classifier__C\": [0.1, 1, 10, 100],\n",
    "    },\n",
    "    # poly kernel\n",
    "    {\n",
    "        \"preprocessor\": [\n",
    "            StandardScaler(),\n",
    "            MinMaxScaler(),\n",
    "            Normalizer(),\n",
    "        ],\n",
    "        \"classifier\": [SVC(kernel=\"poly\")],\n",
    "        \"classifier__C\": [0.1, 1, 10, 100],\n",
    "        \"classifier__degree\": [3, 5],\n",
    "        \"classifier__gamma\": [0.01, 0.1, 1, 10, 100],\n",
    "    },\n",
    "    # rbf kernel\n",
    "    {\n",
    "        \"preprocessor\": [\n",
    "            StandardScaler(),\n",
    "            MinMaxScaler(),\n",
    "            Normalizer(),\n",
    "        ],\n",
    "        \"classifier\": [SVC(kernel=\"rbf\")],\n",
    "        \"classifier__C\": [0.1, 1, 10, 100],\n",
    "        \"classifier__gamma\": [0.01, 0.1, 1, 10, 100],\n",
    "    },\n",
    "]"
   ]
  },
  {
   "cell_type": "code",
   "execution_count": null,
   "id": "a672073b-c8b4-4f7d-bc5d-faa050de4cf2",
   "metadata": {
    "execution": {
     "iopub.execute_input": "2024-02-15T09:09:01.301337Z",
     "iopub.status.busy": "2024-02-15T09:09:01.301337Z",
     "iopub.status.idle": "2024-02-15T09:09:01.316345Z",
     "shell.execute_reply": "2024-02-15T09:09:01.316345Z",
     "shell.execute_reply.started": "2024-02-15T09:09:01.301337Z"
    }
   },
   "outputs": [],
   "source": [
    "# define parameter grid for Random Forests\n",
    "rf_param_grid = {\n",
    "    \"preprocessor\": [\n",
    "        StandardScaler(),\n",
    "        MinMaxScaler(),\n",
    "        Normalizer(),\n",
    "    ],\n",
    "    \"classifier\": [RandomForestClassifier()],\n",
    "    \"classifier__n_estimators\": [50, 100, 200],\n",
    "    \"classifier__max_depth\": [10, 20, None],\n",
    "}"
   ]
  },
  {
   "cell_type": "code",
   "execution_count": null,
   "id": "aebf15a6-bfa1-47bb-8744-5d7278fc1eec",
   "metadata": {
    "execution": {
     "iopub.execute_input": "2024-02-15T09:09:01.322360Z",
     "iopub.status.busy": "2024-02-15T09:09:01.322360Z",
     "iopub.status.idle": "2024-02-15T09:09:01.331886Z",
     "shell.execute_reply": "2024-02-15T09:09:01.331886Z",
     "shell.execute_reply.started": "2024-02-15T09:09:01.322360Z"
    }
   },
   "outputs": [],
   "source": [
    "# scoring function in SVM use the `decision_function` for calculating AUC metrics\n",
    "svm_scoring = {\n",
    "    \"accuracy\": make_scorer(accuracy_score),\n",
    "    \"balanced_accuracy\": make_scorer(balanced_accuracy_score),\n",
    "    \"roc_auc\": make_scorer(roc_auc_score, response_method=\"decision_function\"),\n",
    "    \"pr_auc\": make_scorer(auc_pr_score, response_method=\"decision_function\"),\n",
    "}"
   ]
  },
  {
   "cell_type": "code",
   "execution_count": null,
   "id": "a45cd70f-7027-4c22-82e5-924a4ab05909",
   "metadata": {
    "execution": {
     "iopub.execute_input": "2024-02-15T09:09:01.332891Z",
     "iopub.status.busy": "2024-02-15T09:09:01.332891Z",
     "iopub.status.idle": "2024-02-15T09:09:01.347899Z",
     "shell.execute_reply": "2024-02-15T09:09:01.347899Z",
     "shell.execute_reply.started": "2024-02-15T09:09:01.332891Z"
    }
   },
   "outputs": [],
   "source": [
    "# # scoring function in Random Forest use the `predict_proba` for calculating AUC metrics\n",
    "rf_scoring = {\n",
    "    \"accuracy\": make_scorer(accuracy_score),\n",
    "    \"balanced_accuracy\": make_scorer(balanced_accuracy_score),\n",
    "    \"roc_auc\": make_scorer(roc_auc_score, response_method=\"predict_proba\"),\n",
    "    \"pr_auc\": make_scorer(auc_pr_score, response_method=\"predict_proba\"),\n",
    "}"
   ]
  },
  {
   "cell_type": "code",
   "execution_count": null,
   "id": "544c2668-a3f5-4fd6-8562-781a6547c881",
   "metadata": {
    "execution": {
     "iopub.execute_input": "2024-02-15T09:09:01.348892Z",
     "iopub.status.busy": "2024-02-15T09:09:01.348892Z",
     "iopub.status.idle": "2024-02-15T09:09:01.363899Z",
     "shell.execute_reply": "2024-02-15T09:09:01.363899Z",
     "shell.execute_reply.started": "2024-02-15T09:09:01.348892Z"
    }
   },
   "outputs": [],
   "source": [
    "# define a 5-fold cross validation grid search object for SVM\n",
    "svm_grid_search = GridSearchCV(\n",
    "    estimator=svm_pipeline,\n",
    "    param_grid=svm_param_grid,\n",
    "    cv=5,\n",
    "    scoring=svm_scoring,\n",
    "    n_jobs=-1,\n",
    "    refit=False,\n",
    "    verbose=1,\n",
    ")"
   ]
  },
  {
   "cell_type": "code",
   "execution_count": null,
   "id": "935ba75a-bd7e-4ec6-9790-7f1af54683ee",
   "metadata": {
    "execution": {
     "iopub.execute_input": "2024-02-15T09:09:01.364892Z",
     "iopub.status.busy": "2024-02-15T09:09:01.364892Z",
     "iopub.status.idle": "2024-02-15T09:09:01.380905Z",
     "shell.execute_reply": "2024-02-15T09:09:01.379899Z",
     "shell.execute_reply.started": "2024-02-15T09:09:01.364892Z"
    }
   },
   "outputs": [],
   "source": [
    "# define a 5-fold cross validation grid search object for Random Forests\n",
    "rf_grid_search = GridSearchCV(\n",
    "    estimator=rf_pipeline,\n",
    "    param_grid=rf_param_grid,\n",
    "    cv=5,\n",
    "    scoring=rf_scoring,\n",
    "    n_jobs=-1,\n",
    "    refit=False,\n",
    "    verbose=1,\n",
    ")"
   ]
  },
  {
   "cell_type": "code",
   "execution_count": null,
   "id": "1c8e09f5-9536-4fa4-822e-9a7bfacc8a51",
   "metadata": {
    "execution": {
     "iopub.execute_input": "2024-02-15T09:09:01.381895Z",
     "iopub.status.busy": "2024-02-15T09:09:01.381895Z",
     "iopub.status.idle": "2024-02-15T09:16:11.330874Z",
     "shell.execute_reply": "2024-02-15T09:16:11.329877Z",
     "shell.execute_reply.started": "2024-02-15T09:09:01.381895Z"
    }
   },
   "outputs": [],
   "source": [
    "svm_grid_search.fit(X_train, y_train)"
   ]
  },
  {
   "cell_type": "code",
   "execution_count": null,
   "id": "f2d8f05e-8063-4e34-b92f-9b96c52943b3",
   "metadata": {
    "execution": {
     "iopub.execute_input": "2024-02-15T09:16:11.331878Z",
     "iopub.status.busy": "2024-02-15T09:16:11.330874Z",
     "iopub.status.idle": "2024-02-15T09:16:47.507083Z",
     "shell.execute_reply": "2024-02-15T09:16:47.506141Z",
     "shell.execute_reply.started": "2024-02-15T09:16:11.331878Z"
    }
   },
   "outputs": [],
   "source": [
    "rf_grid_search.fit(X_train, y_train)"
   ]
  },
  {
   "cell_type": "markdown",
   "id": "5383197c-5edb-4564-8356-ac77a03ae804",
   "metadata": {},
   "source": [
    "After tuning the hyperparameters for each classifier, we want to compare their results and see which combination of parameters delivers the best performance.\n",
    "\n",
    "However, the number of classifiers created by the grid search is very large.\n",
    "\n",
    "Let's first build a `DataFrame` for the cross validation results for each classifier:\n"
   ]
  },
  {
   "cell_type": "code",
   "execution_count": null,
   "id": "6e484355-21c9-4907-9a8c-3fce5f39a3e3",
   "metadata": {
    "execution": {
     "iopub.execute_input": "2024-02-15T09:16:47.507083Z",
     "iopub.status.busy": "2024-02-15T09:16:47.507083Z",
     "iopub.status.idle": "2024-02-15T09:16:47.555096Z",
     "shell.execute_reply": "2024-02-15T09:16:47.554096Z",
     "shell.execute_reply.started": "2024-02-15T09:16:47.507083Z"
    }
   },
   "outputs": [],
   "source": [
    "# convert `cv_results_` dictionary into DataFrame\n",
    "svm_grid_search_results = pd.DataFrame(svm_grid_search.cv_results_).loc[\n",
    "    :,\n",
    "    [\n",
    "        \"param_classifier\",\n",
    "        \"param_classifier__C\",\n",
    "        \"param_preprocessor\",\n",
    "        \"param_classifier__degree\",\n",
    "        \"param_classifier__gamma\",\n",
    "        \"mean_test_accuracy\",\n",
    "        \"mean_test_balanced_accuracy\",\n",
    "        \"mean_test_roc_auc\",\n",
    "        \"mean_test_pr_auc\",\n",
    "        \"mean_fit_time\",\n",
    "    ],\n",
    "]\n",
    "\n",
    "# convert the `param_classifier` to string\n",
    "svm_grid_search_results[\"param_classifier\"] = svm_grid_search_results[\n",
    "    \"param_classifier\"\n",
    "].astype(str)\n",
    "\n",
    "svm_grid_search_results[\"param_preprocessor\"] = svm_grid_search_results[\n",
    "    \"param_preprocessor\"\n",
    "].astype(str)"
   ]
  },
  {
   "cell_type": "code",
   "execution_count": null,
   "id": "a2598d62-47b4-4b14-8ca5-9a2e71f87b72",
   "metadata": {
    "execution": {
     "iopub.execute_input": "2024-02-15T09:16:47.556098Z",
     "iopub.status.busy": "2024-02-15T09:16:47.556098Z",
     "iopub.status.idle": "2024-02-15T09:16:47.569627Z",
     "shell.execute_reply": "2024-02-15T09:16:47.569627Z",
     "shell.execute_reply.started": "2024-02-15T09:16:47.556098Z"
    }
   },
   "outputs": [],
   "source": [
    "# convert `cv_results_` dictionary into DataFrame\n",
    "rf_grid_search_results = pd.DataFrame(rf_grid_search.cv_results_).loc[\n",
    "    :,\n",
    "    [\n",
    "        \"param_classifier\",\n",
    "        \"param_classifier__max_depth\",\n",
    "        \"param_classifier__n_estimators\",\n",
    "        \"param_preprocessor\",\n",
    "        \"mean_test_accuracy\",\n",
    "        \"mean_test_balanced_accuracy\",\n",
    "        \"mean_test_roc_auc\",\n",
    "        \"mean_test_pr_auc\",\n",
    "        \"mean_fit_time\",\n",
    "    ],\n",
    "]\n",
    "\n",
    "# convert the `param_classifier` to string\n",
    "rf_grid_search_results[\"param_classifier\"] = rf_grid_search_results[\n",
    "    \"param_classifier\"\n",
    "].astype(str)\n",
    "\n",
    "rf_grid_search_results[\"param_preprocessor\"] = rf_grid_search_results[\n",
    "    \"param_preprocessor\"\n",
    "].astype(str)"
   ]
  },
  {
   "cell_type": "markdown",
   "id": "e958807b-a16a-4953-be36-9d33cfe73d0e",
   "metadata": {},
   "source": [
    "Now, let's print the number of different classifiers created by the GridSearch in the two cases:\n"
   ]
  },
  {
   "cell_type": "code",
   "execution_count": null,
   "id": "e8290447-53e4-47c1-825b-7fede62c09c3",
   "metadata": {
    "execution": {
     "iopub.execute_input": "2024-02-15T09:16:47.570619Z",
     "iopub.status.busy": "2024-02-15T09:16:47.570619Z",
     "iopub.status.idle": "2024-02-15T09:16:47.585627Z",
     "shell.execute_reply": "2024-02-15T09:16:47.585627Z",
     "shell.execute_reply.started": "2024-02-15T09:16:47.570619Z"
    }
   },
   "outputs": [],
   "source": [
    "print(\n",
    "    f\"Number of different classifiers created for SVM: {len(svm_grid_search_results)}\"\n",
    ")\n",
    "print(\n",
    "    f\"Number of different classifiers created for Random Forests: {len(rf_grid_search_results)}\"\n",
    ")"
   ]
  },
  {
   "cell_type": "markdown",
   "id": "f0fd7666-9972-40fd-b1d8-de9b8c0b8d27",
   "metadata": {},
   "source": [
    "We have a total of `219` different classifier. This is not feasible to compare.\n",
    "\n",
    "To remedy this, we chose top 3 performing classifiers for SVM and Random Forests.\n"
   ]
  },
  {
   "cell_type": "code",
   "execution_count": null,
   "id": "b844656f-482c-429f-a993-0aae381c1bec",
   "metadata": {
    "execution": {
     "iopub.execute_input": "2024-02-15T09:16:47.586619Z",
     "iopub.status.busy": "2024-02-15T09:16:47.586619Z",
     "iopub.status.idle": "2024-02-15T09:16:47.601628Z",
     "shell.execute_reply": "2024-02-15T09:16:47.601628Z",
     "shell.execute_reply.started": "2024-02-15T09:16:47.586619Z"
    }
   },
   "outputs": [],
   "source": [
    "# select top 3 performing classifiers for each SVM kernel\n",
    "# in total, we'll get 9 (because we have three kernels)\n",
    "svm_top_results = (\n",
    "    # assign new column rank based on the `mean_test_pr_auc` for each group\n",
    "    svm_grid_search_results.assign(\n",
    "        rank=svm_grid_search_results.groupby(by=\"param_classifier\")[\n",
    "            \"mean_test_pr_auc\"\n",
    "        ].rank(method=\"first\", ascending=False)\n",
    "    )\n",
    "    # select only top 3 for each kernel\n",
    "    .pipe(lambda input_df: input_df.loc[input_df[\"rank\"] <= 3])\n",
    "    # sort results by kernel type and mean_test_pr_auc\n",
    "    .sort_values(by=[\"param_classifier\", \"mean_test_pr_auc\"])\n",
    "    .drop(columns=[\"rank\"])\n",
    "    .reset_index(drop=True)\n",
    ")"
   ]
  },
  {
   "cell_type": "code",
   "execution_count": null,
   "id": "b03fa093-ff11-45fe-b63b-2bc8c1cae7c1",
   "metadata": {
    "execution": {
     "iopub.execute_input": "2024-02-15T09:16:47.602619Z",
     "iopub.status.busy": "2024-02-15T09:16:47.602619Z",
     "iopub.status.idle": "2024-02-15T09:16:47.617628Z",
     "shell.execute_reply": "2024-02-15T09:16:47.617628Z",
     "shell.execute_reply.started": "2024-02-15T09:16:47.602619Z"
    }
   },
   "outputs": [],
   "source": [
    "rf_top_results = rf_grid_search_results.sort_values(\n",
    "    by=\"mean_test_pr_auc\", ascending=False\n",
    ").head(3)"
   ]
  },
  {
   "cell_type": "code",
   "execution_count": null,
   "id": "737ab023-148f-48cc-85d3-bc6f526eccbe",
   "metadata": {
    "execution": {
     "iopub.execute_input": "2024-02-15T09:16:47.618620Z",
     "iopub.status.busy": "2024-02-15T09:16:47.618620Z",
     "iopub.status.idle": "2024-02-15T09:16:47.633627Z",
     "shell.execute_reply": "2024-02-15T09:16:47.633627Z",
     "shell.execute_reply.started": "2024-02-15T09:16:47.618620Z"
    }
   },
   "outputs": [],
   "source": [
    "svm_top_results"
   ]
  },
  {
   "cell_type": "code",
   "execution_count": null,
   "id": "35be9c6c-1faa-489d-a423-6e26ff2dc16f",
   "metadata": {
    "execution": {
     "iopub.execute_input": "2024-02-15T09:16:47.634619Z",
     "iopub.status.busy": "2024-02-15T09:16:47.634619Z",
     "iopub.status.idle": "2024-02-15T09:16:47.650638Z",
     "shell.execute_reply": "2024-02-15T09:16:47.649629Z",
     "shell.execute_reply.started": "2024-02-15T09:16:47.634619Z"
    }
   },
   "outputs": [],
   "source": [
    "rf_top_results"
   ]
  },
  {
   "cell_type": "markdown",
   "id": "6cece78b-c2c6-4950-be17-ac3e8b2cf03e",
   "metadata": {},
   "source": [
    "We can quickly see that noth classifiers delivers similar results.\n",
    "\n",
    "1. SVM with polynomial kernel and `C=10` and `degree=5` and `gamma=1` and Normalizer as pre-processing delivers `0.730973` PR-AUC.\n",
    "2. Random Forest with `n_estimator=200` and Normalizer as pre-processing delivers `0.733637` PR-AUC.\n",
    "\n",
    "But we can also see how they differ in their run-time. The random forest classifier needs additional two seconds for running.\n"
   ]
  },
  {
   "cell_type": "markdown",
   "id": "10a24f4e-a687-4265-ac33-8128f9f0b600",
   "metadata": {},
   "source": [
    "The above tables are very rich in information because we can ask different questions and what is considred as a _good_ classifier?\n",
    "\n",
    "We can see, for example, that linear SVM generally performs badly in comparison with its counterparts. This strongly reinforce the idea that it's hard to separate the data linearlly, and we need some sort of _non-linearlity_ to achieve good performance.\n",
    "\n",
    "We can also see that RBF kernel runs fatser with a `1%` drop in performance. This could also be of interest for us because classifier running-time is proportional to the dataset size, and once it becomes very big it might not be feasible to run certain classifiers.\n"
   ]
  },
  {
   "cell_type": "markdown",
   "id": "5e4e6a90-2220-427a-8af8-527ab8e427e4",
   "metadata": {},
   "source": [
    "To further understand these tables, we'll plot the grid search results to see them visually.\n"
   ]
  },
  {
   "cell_type": "markdown",
   "id": "3d4d5edb-2dec-425d-991e-0b5a1f4a8087",
   "metadata": {},
   "source": [
    "## SVM - Linear Kernel\n"
   ]
  },
  {
   "cell_type": "code",
   "execution_count": null,
   "id": "5c1b0c9f-da8d-408c-9235-b011e1a6672e",
   "metadata": {
    "execution": {
     "iopub.execute_input": "2024-02-15T09:16:47.651638Z",
     "iopub.status.busy": "2024-02-15T09:16:47.651638Z",
     "iopub.status.idle": "2024-02-15T09:16:47.968440Z",
     "shell.execute_reply": "2024-02-15T09:16:47.967666Z",
     "shell.execute_reply.started": "2024-02-15T09:16:47.651638Z"
    }
   },
   "outputs": [],
   "source": [
    "fig, (ax1, ax2) = plt.subplots(nrows=1, ncols=2, figsize=(10, 6))\n",
    "\n",
    "sns.scatterplot(\n",
    "    data=svm_grid_search_results[\n",
    "        svm_grid_search_results[\"param_classifier\"] == \"SVC(kernel='linear')\"\n",
    "    ],\n",
    "    x=\"param_classifier__C\",\n",
    "    y=\"mean_test_pr_auc\",\n",
    "    hue=\"param_preprocessor\",\n",
    "    ax=ax1,\n",
    ")\n",
    "\n",
    "sns.scatterplot(\n",
    "    data=svm_grid_search_results[\n",
    "        svm_grid_search_results[\"param_classifier\"] == \"SVC(kernel='linear')\"\n",
    "    ],\n",
    "    x=\"param_classifier__C\",\n",
    "    y=\"mean_test_roc_auc\",\n",
    "    hue=\"param_preprocessor\",\n",
    "    ax=ax2,\n",
    ")\n",
    "\n",
    "ax1.set_ylim(0, 1)\n",
    "ax2.set_ylim(0, 1)\n",
    "\n",
    "plt.tight_layout()\n",
    "plt.show()"
   ]
  },
  {
   "cell_type": "markdown",
   "id": "da8cccdf-5b56-44e7-ac30-4a67405a4b29",
   "metadata": {},
   "source": [
    "## SVM - Polynomial Kernel\n"
   ]
  },
  {
   "cell_type": "markdown",
   "id": "f3a58729-96e3-4053-9b52-dd30859b05b3",
   "metadata": {},
   "source": [
    "Here we will visualize the grid search results for Polynomial SVM using `Normalizer` as pre-processing:\n"
   ]
  },
  {
   "cell_type": "code",
   "execution_count": null,
   "id": "b76d1aa7-fcc3-4156-9f3f-cb879876658b",
   "metadata": {
    "execution": {
     "iopub.execute_input": "2024-02-15T09:16:47.968946Z",
     "iopub.status.busy": "2024-02-15T09:16:47.968946Z",
     "iopub.status.idle": "2024-02-15T09:16:47.982958Z",
     "shell.execute_reply": "2024-02-15T09:16:47.982958Z",
     "shell.execute_reply.started": "2024-02-15T09:16:47.968946Z"
    }
   },
   "outputs": [],
   "source": [
    "degree_3_scores = svm_grid_search_results.loc[\n",
    "    (svm_grid_search_results[\"param_classifier\"] == \"SVC(kernel='poly')\")\n",
    "    & (svm_grid_search_results[\"param_classifier__degree\"] == 3)\n",
    "    & (svm_grid_search_results[\"param_preprocessor\"] == \"Normalizer()\"),\n",
    "    [\"param_classifier__C\", \"param_classifier__gamma\", \"mean_test_pr_auc\"],\n",
    "].pivot(\n",
    "    index=\"param_classifier__C\",\n",
    "    columns=\"param_classifier__gamma\",\n",
    "    values=\"mean_test_pr_auc\",\n",
    ")\n",
    "\n",
    "degree_5_scores = svm_grid_search_results.loc[\n",
    "    (svm_grid_search_results[\"param_classifier\"] == \"SVC(kernel='poly')\")\n",
    "    & (svm_grid_search_results[\"param_classifier__degree\"] == 5)\n",
    "    & (svm_grid_search_results[\"param_preprocessor\"] == \"Normalizer()\"),\n",
    "    [\"param_classifier__C\", \"param_classifier__gamma\", \"mean_test_pr_auc\"],\n",
    "].pivot(\n",
    "    index=\"param_classifier__C\",\n",
    "    columns=\"param_classifier__gamma\",\n",
    "    values=\"mean_test_pr_auc\",\n",
    ")"
   ]
  },
  {
   "cell_type": "code",
   "execution_count": null,
   "id": "bc6dc215-f55d-421e-a9be-4f77502096c0",
   "metadata": {
    "execution": {
     "iopub.execute_input": "2024-02-15T09:16:47.983950Z",
     "iopub.status.busy": "2024-02-15T09:16:47.983950Z",
     "iopub.status.idle": "2024-02-15T09:16:48.284407Z",
     "shell.execute_reply": "2024-02-15T09:16:48.283461Z",
     "shell.execute_reply.started": "2024-02-15T09:16:47.983950Z"
    }
   },
   "outputs": [],
   "source": [
    "fig, (ax1, ax2) = plt.subplots(nrows=1, ncols=2, figsize=(14, 6))\n",
    "\n",
    "sns.heatmap(\n",
    "    data=degree_3_scores,\n",
    "    annot=True,\n",
    "    cmap=\"rocket_r\",\n",
    "    vmin=0,\n",
    "    vmax=1,\n",
    "    ax=ax1,\n",
    "    linewidths=0.5,\n",
    "    cbar_kws={\"shrink\": 1},\n",
    "    annot_kws={\"size\": 10},\n",
    ")\n",
    "ax1.set_xlabel(\"Gamma\")\n",
    "ax1.set_ylabel(\"C\")\n",
    "ax1.set_title(\"Polynomial SVM with degree = 3\")\n",
    "\n",
    "sns.heatmap(\n",
    "    data=degree_5_scores,\n",
    "    annot=True,\n",
    "    cmap=\"rocket_r\",\n",
    "    vmin=0,\n",
    "    vmax=1,\n",
    "    ax=ax2,\n",
    "    linewidths=0.5,\n",
    "    cbar_kws={\"shrink\": 1},\n",
    "    annot_kws={\"size\": 10},\n",
    ")\n",
    "ax2.set_xlabel(\"Gamma\")\n",
    "ax2.set_ylabel(\"C\")\n",
    "ax2.set_title(\"Polynomial SVM with degree = 5\")\n",
    "\n",
    "plt.tight_layout()\n",
    "\n",
    "plt.show()"
   ]
  },
  {
   "cell_type": "markdown",
   "id": "1a4bd7b3-87a0-4911-aebf-fbca4abfcd93",
   "metadata": {},
   "source": [
    "This side-by-side plot of the relation between `C` and `gamma` (for two different degrees) tells us that the results of these parameters are stable. We don't see any fluctuations in the `mean_test_pr_auc` metric.\n",
    "\n",
    "The increase of `gamma` value is related to increase in the PR-AUC score.\n"
   ]
  },
  {
   "cell_type": "markdown",
   "id": "4417d3f1-eacf-4b39-a544-2d473edd94c4",
   "metadata": {},
   "source": [
    "## SVM - RBF Kernel\n"
   ]
  },
  {
   "cell_type": "code",
   "execution_count": null,
   "id": "12f521bc-c97a-4bba-8f01-844f1f5a3f4c",
   "metadata": {
    "execution": {
     "iopub.execute_input": "2024-02-15T09:16:48.285394Z",
     "iopub.status.busy": "2024-02-15T09:16:48.284407Z",
     "iopub.status.idle": "2024-02-15T09:16:48.299402Z",
     "shell.execute_reply": "2024-02-15T09:16:48.299402Z",
     "shell.execute_reply.started": "2024-02-15T09:16:48.285394Z"
    }
   },
   "outputs": [],
   "source": [
    "std_scaler_scores = svm_grid_search_results.loc[\n",
    "    (svm_grid_search_results[\"param_classifier\"] == \"SVC()\")\n",
    "    & (svm_grid_search_results[\"param_preprocessor\"] == \"StandardScaler()\"),\n",
    "    [\"param_classifier__C\", \"param_classifier__gamma\", \"mean_test_pr_auc\"],\n",
    "].pivot(\n",
    "    index=\"param_classifier__C\",\n",
    "    columns=\"param_classifier__gamma\",\n",
    "    values=\"mean_test_pr_auc\",\n",
    ")"
   ]
  },
  {
   "cell_type": "code",
   "execution_count": null,
   "id": "d3a94cb0-aed7-4aa9-8473-40c49faacc41",
   "metadata": {
    "execution": {
     "iopub.execute_input": "2024-02-15T09:16:48.300396Z",
     "iopub.status.busy": "2024-02-15T09:16:48.300396Z",
     "iopub.status.idle": "2024-02-15T09:16:48.315402Z",
     "shell.execute_reply": "2024-02-15T09:16:48.315402Z",
     "shell.execute_reply.started": "2024-02-15T09:16:48.300396Z"
    }
   },
   "outputs": [],
   "source": [
    "mx_scaler_scores = svm_grid_search_results.loc[\n",
    "    (svm_grid_search_results[\"param_classifier\"] == \"SVC()\")\n",
    "    & (svm_grid_search_results[\"param_preprocessor\"] == \"MinMaxScaler()\"),\n",
    "    [\"param_classifier__C\", \"param_classifier__gamma\", \"mean_test_pr_auc\"],\n",
    "].pivot(\n",
    "    index=\"param_classifier__C\",\n",
    "    columns=\"param_classifier__gamma\",\n",
    "    values=\"mean_test_pr_auc\",\n",
    ")"
   ]
  },
  {
   "cell_type": "code",
   "execution_count": null,
   "id": "7f25ade0-fe92-4490-900a-ccde3de57eef",
   "metadata": {
    "execution": {
     "iopub.execute_input": "2024-02-15T09:16:48.316404Z",
     "iopub.status.busy": "2024-02-15T09:16:48.316404Z",
     "iopub.status.idle": "2024-02-15T09:16:48.331399Z",
     "shell.execute_reply": "2024-02-15T09:16:48.331399Z",
     "shell.execute_reply.started": "2024-02-15T09:16:48.316404Z"
    }
   },
   "outputs": [],
   "source": [
    "normalizer_scores = svm_grid_search_results.loc[\n",
    "    (svm_grid_search_results[\"param_classifier\"] == \"SVC()\")\n",
    "    & (svm_grid_search_results[\"param_preprocessor\"] == \"Normalizer()\"),\n",
    "    [\"param_classifier__C\", \"param_classifier__gamma\", \"mean_test_pr_auc\"],\n",
    "].pivot(\n",
    "    index=\"param_classifier__C\",\n",
    "    columns=\"param_classifier__gamma\",\n",
    "    values=\"mean_test_pr_auc\",\n",
    ")"
   ]
  },
  {
   "cell_type": "code",
   "execution_count": null,
   "id": "a26c3336-3ae0-4e7e-bc80-22b30758873e",
   "metadata": {
    "execution": {
     "iopub.execute_input": "2024-02-15T09:16:48.332407Z",
     "iopub.status.busy": "2024-02-15T09:16:48.332407Z",
     "iopub.status.idle": "2024-02-15T09:16:48.820634Z",
     "shell.execute_reply": "2024-02-15T09:16:48.819625Z",
     "shell.execute_reply.started": "2024-02-15T09:16:48.332407Z"
    }
   },
   "outputs": [],
   "source": [
    "fig, (ax1, ax2, ax3) = plt.subplots(nrows=1, ncols=3, figsize=(14, 6))\n",
    "\n",
    "sns.heatmap(\n",
    "    data=std_scaler_scores,\n",
    "    annot=True,\n",
    "    cmap=\"viridis\",\n",
    "    vmin=0,\n",
    "    vmax=1,\n",
    "    ax=ax1,\n",
    "    linewidths=0.5,\n",
    "    cbar_kws={\"shrink\": 1},\n",
    "    annot_kws={\"size\": 10},\n",
    ")\n",
    "ax1.set_xlabel(\"Gamma\")\n",
    "ax1.set_ylabel(\"C\")\n",
    "ax1.set_title(\"RBF SVM with StandardScaler\")\n",
    "\n",
    "sns.heatmap(\n",
    "    data=mx_scaler_scores,\n",
    "    annot=True,\n",
    "    cmap=\"viridis\",\n",
    "    vmin=0,\n",
    "    vmax=1,\n",
    "    ax=ax2,\n",
    "    linewidths=0.5,\n",
    "    cbar_kws={\"shrink\": 1},\n",
    "    annot_kws={\"size\": 10},\n",
    ")\n",
    "ax2.set_xlabel(\"Gamma\")\n",
    "ax2.set_ylabel(\"C\")\n",
    "ax2.set_title(\"RBF SVM with MinMaxScaler\")\n",
    "\n",
    "sns.heatmap(\n",
    "    data=normalizer_scores,\n",
    "    annot=True,\n",
    "    cmap=\"viridis\",\n",
    "    vmin=0,\n",
    "    vmax=1,\n",
    "    ax=ax3,\n",
    "    linewidths=0.5,\n",
    "    cbar_kws={\"shrink\": 1},\n",
    "    annot_kws={\"size\": 10},\n",
    ")\n",
    "ax3.set_xlabel(\"Gamma\")\n",
    "ax3.set_ylabel(\"C\")\n",
    "ax3.set_title(\"RBF SVM with Normalizer\")\n",
    "\n",
    "plt.tight_layout()\n",
    "\n",
    "plt.show()"
   ]
  },
  {
   "cell_type": "markdown",
   "id": "509fce6a-ee6b-408c-9cd0-314f5f026f87",
   "metadata": {},
   "source": [
    "## Random Forests\n"
   ]
  },
  {
   "cell_type": "code",
   "execution_count": null,
   "id": "74e272b7-64a7-4cf8-ab1d-a2c80ee65d36",
   "metadata": {
    "execution": {
     "iopub.execute_input": "2024-02-15T09:16:48.821649Z",
     "iopub.status.busy": "2024-02-15T09:16:48.821649Z",
     "iopub.status.idle": "2024-02-15T09:16:48.834641Z",
     "shell.execute_reply": "2024-02-15T09:16:48.834641Z",
     "shell.execute_reply.started": "2024-02-15T09:16:48.821649Z"
    }
   },
   "outputs": [],
   "source": [
    "rf_std_scaler_scores = rf_grid_search_results.loc[\n",
    "    (rf_grid_search_results[\"param_preprocessor\"] == \"StandardScaler()\"),\n",
    "].pivot(\n",
    "    index=\"param_classifier__max_depth\",\n",
    "    columns=\"param_classifier__n_estimators\",\n",
    "    values=\"mean_test_pr_auc\",\n",
    ")\n",
    "\n",
    "rf_mx_scaler_scores = rf_grid_search_results.loc[\n",
    "    (rf_grid_search_results[\"param_preprocessor\"] == \"MinMaxScaler()\"),\n",
    "].pivot(\n",
    "    index=\"param_classifier__max_depth\",\n",
    "    columns=\"param_classifier__n_estimators\",\n",
    "    values=\"mean_test_pr_auc\",\n",
    ")\n",
    "\n",
    "rf_normalizer_scores = rf_grid_search_results.loc[\n",
    "    (rf_grid_search_results[\"param_preprocessor\"] == \"Normalizer()\"),\n",
    "].pivot(\n",
    "    index=\"param_classifier__max_depth\",\n",
    "    columns=\"param_classifier__n_estimators\",\n",
    "    values=\"mean_test_pr_auc\",\n",
    ")"
   ]
  },
  {
   "cell_type": "code",
   "execution_count": null,
   "id": "d8da70c5-e949-4d68-aff4-3ac72382a8d1",
   "metadata": {
    "execution": {
     "iopub.execute_input": "2024-02-15T09:16:48.836633Z",
     "iopub.status.busy": "2024-02-15T09:16:48.835644Z",
     "iopub.status.idle": "2024-02-15T09:16:49.245091Z",
     "shell.execute_reply": "2024-02-15T09:16:49.245091Z",
     "shell.execute_reply.started": "2024-02-15T09:16:48.836633Z"
    }
   },
   "outputs": [],
   "source": [
    "fig, (ax1, ax2, ax3) = plt.subplots(nrows=1, ncols=3, figsize=(14, 6))\n",
    "\n",
    "sns.heatmap(\n",
    "    data=rf_std_scaler_scores,\n",
    "    annot=True,\n",
    "    cmap=\"viridis\",\n",
    "    vmin=0,\n",
    "    vmax=1,\n",
    "    ax=ax1,\n",
    "    linewidths=0.5,\n",
    "    cbar_kws={\"shrink\": 1},\n",
    "    annot_kws={\"size\": 10},\n",
    ")\n",
    "ax1.set_xlabel(\"Max depth\")\n",
    "ax1.set_ylabel(\"Number of trees\")\n",
    "ax1.set_title(\"Random Forests with StandardScaler\")\n",
    "\n",
    "sns.heatmap(\n",
    "    data=rf_mx_scaler_scores,\n",
    "    annot=True,\n",
    "    cmap=\"viridis\",\n",
    "    vmin=0,\n",
    "    vmax=1,\n",
    "    ax=ax2,\n",
    "    linewidths=0.5,\n",
    "    cbar_kws={\"shrink\": 1},\n",
    "    annot_kws={\"size\": 10},\n",
    ")\n",
    "ax2.set_xlabel(\"Max depth\")\n",
    "ax2.set_ylabel(\"Number of trees\")\n",
    "ax2.set_title(\"Random Forests with MinMaxScaler\")\n",
    "\n",
    "sns.heatmap(\n",
    "    data=rf_normalizer_scores,\n",
    "    annot=True,\n",
    "    cmap=\"viridis\",\n",
    "    vmin=0,\n",
    "    vmax=1,\n",
    "    ax=ax3,\n",
    "    linewidths=0.5,\n",
    "    cbar_kws={\"shrink\": 1},\n",
    "    annot_kws={\"size\": 10},\n",
    ")\n",
    "ax3.set_xlabel(\"Max depth\")\n",
    "ax3.set_ylabel(\"Number of trees\")\n",
    "ax3.set_title(\"Random Forests with Normalizer\")\n",
    "\n",
    "plt.tight_layout()\n",
    "\n",
    "plt.show()"
   ]
  },
  {
   "cell_type": "markdown",
   "id": "8288d844-87fb-4f35-a346-68dc3ae6b192",
   "metadata": {},
   "source": [
    "## ROC and Precision-Recall curves\n"
   ]
  },
  {
   "cell_type": "code",
   "execution_count": null,
   "id": "5d501242-ea5c-42b0-a530-4ef215d7b53e",
   "metadata": {
    "execution": {
     "iopub.execute_input": "2024-02-15T09:16:49.246101Z",
     "iopub.status.busy": "2024-02-15T09:16:49.246101Z",
     "iopub.status.idle": "2024-02-15T09:16:49.262123Z",
     "shell.execute_reply": "2024-02-15T09:16:49.261122Z",
     "shell.execute_reply.started": "2024-02-15T09:16:49.246101Z"
    }
   },
   "outputs": [],
   "source": [
    "top_performing_svm_pipelines = [\n",
    "    # RBF SVM\n",
    "    (\"RBF_SVM_Normalizer_C_10_gamma_1\", Normalizer(), SVC(kernel=\"rbf\", C=10, gamma=1)),\n",
    "    (\n",
    "        \"RBF_SVM_MinMaxScaler_C_10_gamma_0.01\",\n",
    "        MinMaxScaler(),\n",
    "        SVC(kernel=\"rbf\", C=10, gamma=0.01),\n",
    "    ),\n",
    "    (\n",
    "        \"RBF_SVM_MinMaxScaler_C_100_gamma_0.01\",\n",
    "        MinMaxScaler(),\n",
    "        SVC(kernel=\"rbf\", C=100, gamma=0.01),\n",
    "    ),\n",
    "    # linear SVM\n",
    "    (\"Linear_SVM_MinMaxScaler_C_0.1\", MinMaxScaler(), SVC(kernel=\"linear\", C=0.1)),\n",
    "    (\"Linear_SVM_Normalizer_C_1\", Normalizer(), SVC(kernel=\"linear\", C=1)),\n",
    "    (\"Linear_SVM_Normalizer_C_10\", Normalizer(), SVC(kernel=\"linear\", C=10)),\n",
    "    # polynomial SVM\n",
    "    (\n",
    "        \"Polynomial_SVM_Normalizer_C_0.1_degree_5_gamma_100\",\n",
    "        Normalizer(),\n",
    "        SVC(kernel=\"poly\", C=0.1, degree=5, gamma=100),\n",
    "    ),\n",
    "    (\n",
    "        \"Polynomial_SVM_Normalizer_C_1_degree_5_gamma_100\",\n",
    "        Normalizer(),\n",
    "        SVC(kernel=\"poly\", C=1, degree=5, gamma=100),\n",
    "    ),\n",
    "    (\n",
    "        \"Polynomial_SVM_Normalizer_C_10_degree_5_gamma_1\",\n",
    "        Normalizer(),\n",
    "        SVC(kernel=\"poly\", C=10, degree=5, gamma=1),\n",
    "    ),\n",
    "]"
   ]
  },
  {
   "cell_type": "code",
   "execution_count": null,
   "id": "02534907-1810-4551-ba6e-c9162508c380",
   "metadata": {
    "execution": {
     "iopub.execute_input": "2024-02-15T09:16:49.262123Z",
     "iopub.status.busy": "2024-02-15T09:16:49.262123Z",
     "iopub.status.idle": "2024-02-15T09:16:49.276641Z",
     "shell.execute_reply": "2024-02-15T09:16:49.276641Z",
     "shell.execute_reply.started": "2024-02-15T09:16:49.262123Z"
    }
   },
   "outputs": [],
   "source": [
    "top_performing_rf_pipelines = [\n",
    "    # Random Forests\n",
    "    (\n",
    "        \"rf_Normalizer_depth_None_n_trees_200\",\n",
    "        Normalizer(),\n",
    "        RandomForestClassifier(\n",
    "            max_depth=None,\n",
    "            n_estimators=200,\n",
    "        ),\n",
    "    ),\n",
    "    (\n",
    "        \"rf_Normalizer_depth_20_n_trees_200\",\n",
    "        Normalizer(),\n",
    "        RandomForestClassifier(\n",
    "            max_depth=20,\n",
    "            n_estimators=200,\n",
    "        ),\n",
    "    ),\n",
    "    (\n",
    "        \"rf_Normalizer_depth_10_n_trees_200\",\n",
    "        Normalizer(),\n",
    "        RandomForestClassifier(\n",
    "            max_depth=10,\n",
    "            n_estimators=200,\n",
    "        ),\n",
    "    ),\n",
    "]"
   ]
  },
  {
   "cell_type": "code",
   "execution_count": null,
   "id": "3ac09b49-b7e2-40ca-8df4-e5c930508d3c",
   "metadata": {
    "execution": {
     "iopub.execute_input": "2024-02-15T09:16:49.278642Z",
     "iopub.status.busy": "2024-02-15T09:16:49.277642Z",
     "iopub.status.idle": "2024-02-15T09:16:59.538580Z",
     "shell.execute_reply": "2024-02-15T09:16:59.537596Z",
     "shell.execute_reply.started": "2024-02-15T09:16:49.278642Z"
    },
    "scrolled": true
   },
   "outputs": [],
   "source": [
    "results = {}\n",
    "\n",
    "for (\n",
    "    svm_pipeline_name,\n",
    "    pipe_preprocessor,\n",
    "    pipe_classifier,\n",
    ") in top_performing_svm_pipelines:\n",
    "\n",
    "    X_train_fold, X_test_fold, y_train_fold, y_test_fold = train_test_split(\n",
    "        X_train, y_train, test_size=0.33, random_state=42, stratify=y_train\n",
    "    )\n",
    "\n",
    "    svm_pipeline = Pipeline(\n",
    "        steps=[(\"preproessor\", pipe_preprocessor), (\"classifier\", pipe_classifier)]\n",
    "    )\n",
    "\n",
    "    svm_pipeline.fit(X_train_fold, y_train_fold)\n",
    "\n",
    "    y_pred_proba_fold = svm_pipeline.decision_function(X_test_fold)\n",
    "\n",
    "    results.update(\n",
    "        {svm_pipeline_name: {\"y_true\": y_test_fold, \"y_score\": y_pred_proba_fold}}\n",
    "    )\n",
    "\n",
    "\n",
    "for (\n",
    "    rf_pipeline_name,\n",
    "    pipe_preprocessor,\n",
    "    pipe_classifier,\n",
    ") in top_performing_rf_pipelines:\n",
    "\n",
    "    X_train_fold, X_test_fold, y_train_fold, y_test_fold = train_test_split(\n",
    "        X_train, y_train, test_size=0.33, random_state=42, stratify=y_train\n",
    "    )\n",
    "\n",
    "    rf_pipeline = Pipeline(\n",
    "        steps=[(\"preproessor\", pipe_preprocessor), (\"classifier\", pipe_classifier)]\n",
    "    )\n",
    "\n",
    "    rf_pipeline.fit(X_train_fold, y_train_fold)\n",
    "\n",
    "    y_pred_proba_fold = rf_pipeline.predict_proba(X_test_fold)\n",
    "\n",
    "    results.update(\n",
    "        {rf_pipeline_name: {\"y_true\": y_test_fold, \"y_score\": y_pred_proba_fold[:, 1]}}\n",
    "    )"
   ]
  },
  {
   "cell_type": "code",
   "execution_count": null,
   "id": "104f6d61-3ce7-4b7f-bbb9-f4d6b4aa1191",
   "metadata": {
    "execution": {
     "iopub.execute_input": "2024-02-15T09:16:59.539578Z",
     "iopub.status.busy": "2024-02-15T09:16:59.538580Z",
     "iopub.status.idle": "2024-02-15T09:16:59.728139Z",
     "shell.execute_reply": "2024-02-15T09:16:59.728139Z",
     "shell.execute_reply.started": "2024-02-15T09:16:59.539578Z"
    }
   },
   "outputs": [],
   "source": [
    "fig, ax = plt.subplots(nrows=1, ncols=1, figsize=(12, 8))\n",
    "\n",
    "for svm_pipeline_name in results.keys():\n",
    "    y_true = results[svm_pipeline_name].get(\"y_true\")\n",
    "    y_score = results[svm_pipeline_name].get(\"y_score\")\n",
    "\n",
    "    RocCurveDisplay.from_predictions(y_true, y_score, name=svm_pipeline_name, ax=ax)\n",
    "\n",
    "plt.show()"
   ]
  },
  {
   "cell_type": "code",
   "execution_count": null,
   "id": "3c0b7b22-2ffe-4243-a951-082062f8b927",
   "metadata": {
    "execution": {
     "iopub.execute_input": "2024-02-15T09:16:59.729138Z",
     "iopub.status.busy": "2024-02-15T09:16:59.729138Z",
     "iopub.status.idle": "2024-02-15T09:16:59.994465Z",
     "shell.execute_reply": "2024-02-15T09:16:59.994465Z",
     "shell.execute_reply.started": "2024-02-15T09:16:59.729138Z"
    }
   },
   "outputs": [],
   "source": [
    "fig, ax = plt.subplots(nrows=1, ncols=1, figsize=(12, 8))\n",
    "\n",
    "for svm_pipeline_name in results.keys():\n",
    "    y_true = results[svm_pipeline_name].get(\"y_true\")\n",
    "    y_score = results[svm_pipeline_name].get(\"y_score\")\n",
    "\n",
    "    PrecisionRecallDisplay.from_predictions(\n",
    "        y_true, y_score, name=svm_pipeline_name, ax=ax\n",
    "    )\n",
    "\n",
    "plt.show()"
   ]
  },
  {
   "cell_type": "markdown",
   "id": "4e902f7b-3c8e-41ab-bee3-574d70c55dad",
   "metadata": {},
   "source": [
    "Key observations from the previous two plots:\n",
    "\n",
    "1. Almost ROC curves are good with curve very close to the uper left corner. The random forest classifiers perform extremely well with AUC of 0.93, and RBF SVM also has similar performance. However, linear SVM tends to have lower performance.\n",
    "\n",
    "2. For the Precision Recall curve, we see that the linear SVM performs very badly with AUC of 0.54. This shows how ROC alone is not enough. The random forests classifier and RBF SVM perform generally good but it's clear how the classifiers suffer to maintain good precision after recall of 0.6\n"
   ]
  },
  {
   "cell_type": "markdown",
   "id": "f6e243c1-5192-40b7-8d95-db6299f25d5c",
   "metadata": {},
   "source": [
    "# Question No. 4 PCA:\n"
   ]
  },
  {
   "cell_type": "markdown",
   "id": "e123342f-5c21-415e-b70d-8b8c34c6c1f3",
   "metadata": {},
   "source": [
    "## Reduce the number of dimensions of the training data using PCA to 2 and plot a scatter plot of the training data showing examples of each class in a different colour. What are your observations about the data based on this plot?\n"
   ]
  },
  {
   "cell_type": "markdown",
   "id": "efda482b-8e34-48cd-9401-8593ed558b9a",
   "metadata": {},
   "source": [
    "We'll perform PCA on original data and scaled data to see if scaling features affect the results of PCA:\n"
   ]
  },
  {
   "cell_type": "code",
   "execution_count": null,
   "id": "f4a5d630-c319-4114-8329-043d5e771930",
   "metadata": {
    "execution": {
     "iopub.execute_input": "2024-02-15T09:16:59.996390Z",
     "iopub.status.busy": "2024-02-15T09:16:59.995457Z",
     "iopub.status.idle": "2024-02-15T09:17:00.011401Z",
     "shell.execute_reply": "2024-02-15T09:17:00.010397Z",
     "shell.execute_reply.started": "2024-02-15T09:16:59.996390Z"
    }
   },
   "outputs": [],
   "source": [
    "# define a StandardScaler which convert the distribution to zero mean and unit variance\n",
    "scaler = StandardScaler()"
   ]
  },
  {
   "cell_type": "code",
   "execution_count": null,
   "id": "cf98d02f-6a70-4feb-a471-dbdb9584e9c5",
   "metadata": {
    "execution": {
     "iopub.execute_input": "2024-02-15T09:17:00.012391Z",
     "iopub.status.busy": "2024-02-15T09:17:00.012391Z",
     "iopub.status.idle": "2024-02-15T09:17:00.042397Z",
     "shell.execute_reply": "2024-02-15T09:17:00.042397Z",
     "shell.execute_reply.started": "2024-02-15T09:17:00.012391Z"
    }
   },
   "outputs": [],
   "source": [
    "scaled_X_train = scaler.fit_transform(X_train)"
   ]
  },
  {
   "cell_type": "markdown",
   "id": "f42babaf-14a3-4f8b-a750-c42a4fa5cbce",
   "metadata": {},
   "source": [
    "Verify scaled data has zero mean and unit variance:\n"
   ]
  },
  {
   "cell_type": "code",
   "execution_count": null,
   "id": "0f05d277-880f-4683-8093-98f7ba48e018",
   "metadata": {
    "execution": {
     "iopub.execute_input": "2024-02-15T09:17:00.043391Z",
     "iopub.status.busy": "2024-02-15T09:17:00.043391Z",
     "iopub.status.idle": "2024-02-15T09:17:00.058405Z",
     "shell.execute_reply": "2024-02-15T09:17:00.058405Z",
     "shell.execute_reply.started": "2024-02-15T09:17:00.043391Z"
    }
   },
   "outputs": [],
   "source": [
    "print(f\"Mean after scaling: {scaled_X_train.mean(axis=0).round()[0]}\")\n",
    "print(f\"Standard deviation after scaling: {scaled_X_train.std(axis=0).round()[0]}\")"
   ]
  },
  {
   "cell_type": "markdown",
   "id": "c8a327ac-796c-4cec-a093-ab1bafdae9ec",
   "metadata": {},
   "source": [
    "Calculate the two principal components of the data with and without scaling:\n"
   ]
  },
  {
   "cell_type": "code",
   "execution_count": null,
   "id": "3801b32b-760b-4138-86e5-2f15aa08f590",
   "metadata": {
    "execution": {
     "iopub.execute_input": "2024-02-15T09:17:00.059396Z",
     "iopub.status.busy": "2024-02-15T09:17:00.059396Z",
     "iopub.status.idle": "2024-02-15T09:17:00.138006Z",
     "shell.execute_reply": "2024-02-15T09:17:00.138006Z",
     "shell.execute_reply.started": "2024-02-15T09:17:00.059396Z"
    }
   },
   "outputs": [],
   "source": [
    "# define PCA with 2 components for and fit it on unscaled data\n",
    "pca = PCA(n_components=2).fit(X_train)\n",
    "\n",
    "# define PCA with 2 components and fit it on scaled data\n",
    "scaled_pca = PCA(n_components=2).fit(scaled_X_train)"
   ]
  },
  {
   "cell_type": "code",
   "execution_count": null,
   "id": "73107ebf-7aa3-4137-9d92-868389aa8e76",
   "metadata": {
    "execution": {
     "iopub.execute_input": "2024-02-15T09:17:00.139031Z",
     "iopub.status.busy": "2024-02-15T09:17:00.139031Z",
     "iopub.status.idle": "2024-02-15T09:17:00.169047Z",
     "shell.execute_reply": "2024-02-15T09:17:00.169047Z",
     "shell.execute_reply.started": "2024-02-15T09:17:00.139031Z"
    }
   },
   "outputs": [],
   "source": [
    "# Apply dimensionality reduction on the data\n",
    "X_train_transformed = pca.transform(X_train)\n",
    "X_train_std_transformed = scaled_pca.transform(scaled_X_train)"
   ]
  },
  {
   "cell_type": "code",
   "execution_count": null,
   "id": "a15bf116-8ffc-4096-a418-1693deacdedd",
   "metadata": {
    "execution": {
     "iopub.execute_input": "2024-02-15T09:17:00.170052Z",
     "iopub.status.busy": "2024-02-15T09:17:00.170052Z",
     "iopub.status.idle": "2024-02-15T09:17:00.185565Z",
     "shell.execute_reply": "2024-02-15T09:17:00.184565Z",
     "shell.execute_reply.started": "2024-02-15T09:17:00.170052Z"
    }
   },
   "outputs": [],
   "source": [
    "print(f\"Normal PCA explained variance ratio: {pca.explained_variance_ratio_}\")\n",
    "print(\n",
    "    f\"Total explained variance by two components on unscaled data: {sum(pca.explained_variance_ratio_)}\"\n",
    ")\n",
    "\n",
    "print(f\"Scaled PCA explained variance ratio: {scaled_pca.explained_variance_ratio_}\")\n",
    "print(\n",
    "    f\"Total explained variance by two components on scaled data: {sum(scaled_pca.explained_variance_ratio_)}\"\n",
    ")"
   ]
  },
  {
   "cell_type": "markdown",
   "id": "5862cc92-8742-4f02-9f5c-783134d42683",
   "metadata": {},
   "source": [
    "Visualize the resulting principal components.\n",
    "\n",
    "**NOTE**: given that we are visualizing 3000 points in a scatter plot, the points will mostly be cluttered and overlapping, and it won't be possible to distinguish between _positive_ and _negative_ class. To address this, we set the `alpha` parameter of the scatter function to small value (0.1). This will make the points more _transparent_, and it will enable us to see where the points are concentrated the most.\n"
   ]
  },
  {
   "cell_type": "code",
   "execution_count": null,
   "id": "ec0ef37e-0e09-40f9-8d06-6372d2d2beaa",
   "metadata": {
    "execution": {
     "iopub.execute_input": "2024-02-15T09:17:00.186579Z",
     "iopub.status.busy": "2024-02-15T09:17:00.185565Z",
     "iopub.status.idle": "2024-02-15T09:17:00.534632Z",
     "shell.execute_reply": "2024-02-15T09:17:00.534632Z",
     "shell.execute_reply.started": "2024-02-15T09:17:00.186579Z"
    }
   },
   "outputs": [],
   "source": [
    "# this code is motivated from: https://scikit-learn.org/stable/auto_examples/preprocessing/plot_scaling_importance.html#effect-of-rescaling-on-a-pca-dimensional-reduction\n",
    "\n",
    "# create a scatter plot side by side for the unscaled and scaled PCA\n",
    "fig, (ax1, ax2) = plt.subplots(nrows=1, ncols=2, figsize=(10, 5))\n",
    "\n",
    "target_classes = [-1, 1]\n",
    "colors = (\n",
    "    \"blue\",  # blue color for negative class\n",
    "    \"red\",  # red color for positive class\n",
    ")\n",
    "markers = (\n",
    "    \"s\",  # square marker for negative class\n",
    "    \"o\",  # circle marker for positive class\n",
    ")\n",
    "\n",
    "for target_class, color, marker in zip(target_classes, colors, markers):\n",
    "    # construct boolean mask for rows with the corresponding `target_class`\n",
    "    target_class_mask = y_train == target_class\n",
    "\n",
    "    # scatter plot for unscaled data\n",
    "    ax1.scatter(\n",
    "        x=X_train_transformed[target_class_mask, 0],  # first principal component\n",
    "        y=X_train_transformed[target_class_mask, 1],  # second principal component\n",
    "        color=color,\n",
    "        label=f\"class {target_class}\",\n",
    "        alpha=0.1,\n",
    "        marker=marker,\n",
    "    )\n",
    "\n",
    "    # scatter plot for scaled data\n",
    "    ax2.scatter(\n",
    "        x=X_train_std_transformed[target_class_mask, 0],  # first principal component\n",
    "        y=X_train_std_transformed[target_class_mask, 1],  # second principal component\n",
    "        color=color,\n",
    "        label=f\"class {target_class}\",\n",
    "        alpha=0.1,\n",
    "        marker=marker,\n",
    "    )\n",
    "\n",
    "ax1.set_title(\"Unscaled training dataset after PCA\")\n",
    "ax2.set_title(\"Standardized training dataset after PCA\")\n",
    "\n",
    "for ax in (ax1, ax2):\n",
    "    ax.set_xlabel(\"1st principal component\")\n",
    "    ax.set_ylabel(\"2nd principal component\")\n",
    "    ax.legend(loc=\"upper right\")\n",
    "    ax.grid()\n",
    "\n",
    "_ = plt.tight_layout()"
   ]
  },
  {
   "cell_type": "markdown",
   "id": "13562924-e24d-42d8-be9b-83513676bdde",
   "metadata": {},
   "source": [
    "Key observations:\n",
    "\n",
    "1. Applying dimensionality reduction on the raw images and reducing them from `784` to `2` causes huge loss of information. The explained variance of the data after applying PCA (for normal and scaled data) is less than 50%. Therefore, we can say that using only two components has a big disadventage on the information in the data.\n",
    "\n",
    "2. Scaling the data (before performing PCA) produces less explained variance, and thus it's better not to scale the data.\n",
    "\n",
    "3. From the scatter plots, we see that the data is not clearly separated. Meaning that points of the two classes are overlapping and don't exhibit some form of grouping (or clustering). Therefore, the resulting components won't be very much useful for solving the classification task. One reason for this happening is that the variance captured in these two components reflects change of color in images (black to white) rather than capturing more meaningful patterns.\n"
   ]
  },
  {
   "cell_type": "markdown",
   "id": "9321c7df-2da7-4af4-94a5-37eb544bd03a",
   "metadata": {},
   "source": [
    "## Reduce the number of dimensions of the training and test data together using PCA to 2 and plot a scatter plot of the training and test data showing examples of each set in a different colour (or marker style). What are your observations about the data based on this plot?\n"
   ]
  },
  {
   "cell_type": "markdown",
   "id": "56f0871b-a978-4d49-9157-dea756db5605",
   "metadata": {},
   "source": [
    "We repeat the previous steps but on the whole data (`X_train` and `X_test` combined).\n"
   ]
  },
  {
   "cell_type": "code",
   "execution_count": null,
   "id": "ee217285-ebae-4c68-9361-f3a2143e5e4a",
   "metadata": {
    "execution": {
     "iopub.execute_input": "2024-02-15T09:17:00.535710Z",
     "iopub.status.busy": "2024-02-15T09:17:00.535710Z",
     "iopub.status.idle": "2024-02-15T09:17:00.550632Z",
     "shell.execute_reply": "2024-02-15T09:17:00.550632Z",
     "shell.execute_reply.started": "2024-02-15T09:17:00.535710Z"
    }
   },
   "outputs": [],
   "source": [
    "# concatenate the two arrays\n",
    "X_all = np.vstack((X_train, X_test))"
   ]
  },
  {
   "cell_type": "code",
   "execution_count": null,
   "id": "2860e594-2247-4ee0-8097-dc9719e8ba9c",
   "metadata": {
    "execution": {
     "iopub.execute_input": "2024-02-15T09:17:00.551632Z",
     "iopub.status.busy": "2024-02-15T09:17:00.551632Z",
     "iopub.status.idle": "2024-02-15T09:17:00.566649Z",
     "shell.execute_reply": "2024-02-15T09:17:00.566649Z",
     "shell.execute_reply.started": "2024-02-15T09:17:00.551632Z"
    }
   },
   "outputs": [],
   "source": [
    "# create a label array for the whole data\n",
    "# first 3000 elements are from training data\n",
    "# and last 3000 elements are from testing data\n",
    "y_all = np.empty(X_all.shape[0], dtype=\"object\")\n",
    "y_all[:3000] = \"train\"\n",
    "y_all[3000:] = \"test\""
   ]
  },
  {
   "cell_type": "code",
   "execution_count": null,
   "id": "430fcc53-a6ce-4c7e-9553-87cb2b04fad1",
   "metadata": {
    "execution": {
     "iopub.execute_input": "2024-02-15T09:17:00.567660Z",
     "iopub.status.busy": "2024-02-15T09:17:00.567660Z",
     "iopub.status.idle": "2024-02-15T09:17:00.582181Z",
     "shell.execute_reply": "2024-02-15T09:17:00.582181Z",
     "shell.execute_reply.started": "2024-02-15T09:17:00.567660Z"
    }
   },
   "outputs": [],
   "source": [
    "print(f\"Shape of X_all: {X_all.shape}\")\n",
    "print(f\"Shape of y_all: {y_all.shape}\")"
   ]
  },
  {
   "cell_type": "code",
   "execution_count": null,
   "id": "0f16ac47-d11e-4031-8173-4c3408589284",
   "metadata": {
    "execution": {
     "iopub.execute_input": "2024-02-15T09:17:00.583175Z",
     "iopub.status.busy": "2024-02-15T09:17:00.583175Z",
     "iopub.status.idle": "2024-02-15T09:17:00.599245Z",
     "shell.execute_reply": "2024-02-15T09:17:00.598210Z",
     "shell.execute_reply.started": "2024-02-15T09:17:00.583175Z"
    }
   },
   "outputs": [],
   "source": [
    "scaler = StandardScaler()"
   ]
  },
  {
   "cell_type": "code",
   "execution_count": null,
   "id": "cd530d14-8c5f-48e4-9825-a024cf6d1887",
   "metadata": {
    "execution": {
     "iopub.execute_input": "2024-02-15T09:17:00.600175Z",
     "iopub.status.busy": "2024-02-15T09:17:00.599245Z",
     "iopub.status.idle": "2024-02-15T09:17:00.661896Z",
     "shell.execute_reply": "2024-02-15T09:17:00.661896Z",
     "shell.execute_reply.started": "2024-02-15T09:17:00.600175Z"
    }
   },
   "outputs": [],
   "source": [
    "scaled_X_all = scaler.fit_transform(X_all)"
   ]
  },
  {
   "cell_type": "code",
   "execution_count": null,
   "id": "ad1e5d5f-c534-43a5-9445-6a28bd79b52d",
   "metadata": {
    "execution": {
     "iopub.execute_input": "2024-02-15T09:17:00.662811Z",
     "iopub.status.busy": "2024-02-15T09:17:00.662811Z",
     "iopub.status.idle": "2024-02-15T09:17:00.836029Z",
     "shell.execute_reply": "2024-02-15T09:17:00.835101Z",
     "shell.execute_reply.started": "2024-02-15T09:17:00.662811Z"
    }
   },
   "outputs": [],
   "source": [
    "pca = PCA(n_components=2).fit(X_all)\n",
    "scaled_pca = PCA(n_components=2).fit(scaled_X_all)"
   ]
  },
  {
   "cell_type": "code",
   "execution_count": null,
   "id": "7ae629ad-9dae-48d4-bd38-b0d9fcc4ead9",
   "metadata": {
    "execution": {
     "iopub.execute_input": "2024-02-15T09:17:00.836029Z",
     "iopub.status.busy": "2024-02-15T09:17:00.836029Z",
     "iopub.status.idle": "2024-02-15T09:17:00.883506Z",
     "shell.execute_reply": "2024-02-15T09:17:00.882591Z",
     "shell.execute_reply.started": "2024-02-15T09:17:00.836029Z"
    }
   },
   "outputs": [],
   "source": [
    "X_all_transformed = pca.transform(X_all)\n",
    "X_all_std_transformed = scaled_pca.transform(scaled_X_all)"
   ]
  },
  {
   "cell_type": "code",
   "execution_count": null,
   "id": "9a11b90c-7409-4a95-b548-b996d26a730d",
   "metadata": {
    "execution": {
     "iopub.execute_input": "2024-02-15T09:17:00.884514Z",
     "iopub.status.busy": "2024-02-15T09:17:00.883506Z",
     "iopub.status.idle": "2024-02-15T09:17:00.898519Z",
     "shell.execute_reply": "2024-02-15T09:17:00.898519Z",
     "shell.execute_reply.started": "2024-02-15T09:17:00.884514Z"
    }
   },
   "outputs": [],
   "source": [
    "print(f\"Normal PCA explained variance ratio: {pca.explained_variance_ratio_}\")\n",
    "print(\n",
    "    f\"Total explained variance by two components on unscaled data: {sum(pca.explained_variance_ratio_)}\"\n",
    ")\n",
    "\n",
    "print(f\"Scaled PCA explained variance ratio: {scaled_pca.explained_variance_ratio_}\")\n",
    "print(\n",
    "    f\"Total explained variance by two components on scaled data: {sum(scaled_pca.explained_variance_ratio_)}\"\n",
    ")"
   ]
  },
  {
   "cell_type": "markdown",
   "id": "80676d06-fd34-46df-9662-da316b6ef058",
   "metadata": {},
   "source": [
    "Visualize the results of PCA in similar way as done previously:\n"
   ]
  },
  {
   "cell_type": "code",
   "execution_count": null,
   "id": "9ef11d36-c9a8-46dc-a33c-8f32e3ef204f",
   "metadata": {
    "execution": {
     "iopub.execute_input": "2024-02-15T09:17:00.899528Z",
     "iopub.status.busy": "2024-02-15T09:17:00.899528Z",
     "iopub.status.idle": "2024-02-15T09:17:01.263421Z",
     "shell.execute_reply": "2024-02-15T09:17:01.262478Z",
     "shell.execute_reply.started": "2024-02-15T09:17:00.899528Z"
    }
   },
   "outputs": [],
   "source": [
    "# create a scatter plot side by side for the unscaled and scaled PCA\n",
    "fig, (ax1, ax2) = plt.subplots(nrows=1, ncols=2, figsize=(10, 5))\n",
    "\n",
    "target_classes = [\"train\", \"test\"]\n",
    "colors = (\n",
    "    \"blue\",  # blue color for negative class\n",
    "    \"red\",  # red color for positive class\n",
    ")\n",
    "markers = (\n",
    "    \"s\",  # square marker for negative class\n",
    "    \"o\",  # circle marker for positive class\n",
    ")\n",
    "\n",
    "for target_class, color, marker in zip(target_classes, colors, markers):\n",
    "    # construct boolean mask for rows with the corresponding `target_class`\n",
    "    target_class_mask = y_all == target_class\n",
    "\n",
    "    # scatter plot for unscaled data\n",
    "    ax1.scatter(\n",
    "        x=X_all_transformed[target_class_mask, 0],  # first principal component\n",
    "        y=X_all_transformed[target_class_mask, 1],  # second principal component\n",
    "        color=color,\n",
    "        label=f\"class {target_class}\",\n",
    "        alpha=0.1,\n",
    "        marker=marker,\n",
    "    )\n",
    "\n",
    "    # scatter plot for scaled data\n",
    "    ax2.scatter(\n",
    "        x=X_all_std_transformed[target_class_mask, 0],  # first principal component\n",
    "        y=X_all_std_transformed[target_class_mask, 1],  # second principal component\n",
    "        color=color,\n",
    "        label=f\"class {target_class}\",\n",
    "        alpha=0.1,\n",
    "        marker=marker,\n",
    "    )\n",
    "\n",
    "ax1.set_title(\"Unscaled training dataset after PCA\")\n",
    "ax2.set_title(\"Standardized training dataset after PCA\")\n",
    "\n",
    "for ax in (ax1, ax2):\n",
    "    ax.set_xlabel(\"1st principal component\")\n",
    "    ax.set_ylabel(\"2nd principal component\")\n",
    "    ax.legend(loc=\"upper right\")\n",
    "    ax.grid()\n",
    "\n",
    "_ = plt.tight_layout()"
   ]
  },
  {
   "cell_type": "markdown",
   "id": "89772d8f-c25b-437f-9966-3a5b6d88622c",
   "metadata": {},
   "source": [
    "Key observations:\n",
    "\n",
    "1. Similar to the previous experiment (with reducing dimensionality only for training data), we find that two components cause huge loss of information and that scaling worsen the results.\n",
    "\n",
    "2. The data is not clearly separated into two groups. Most of the points are overlapping.\n"
   ]
  },
  {
   "cell_type": "markdown",
   "id": "84426d64-ee14-4b04-b127-199af19a2760",
   "metadata": {},
   "source": [
    "## Plot the scree graph of PCA and find the number of dimensions that explain 95% variance in the training set.\n"
   ]
  },
  {
   "cell_type": "markdown",
   "id": "fa6df666-a1ab-4a89-a859-2e23b14e239e",
   "metadata": {},
   "source": [
    "To plot the scree graph, we fit the PCA on the training data but without specifying the number of components.\n"
   ]
  },
  {
   "cell_type": "code",
   "execution_count": null,
   "id": "8ace1b76-1f3a-4700-a275-7ca860030cf6",
   "metadata": {
    "execution": {
     "iopub.execute_input": "2024-02-15T09:17:01.264421Z",
     "iopub.status.busy": "2024-02-15T09:17:01.263421Z",
     "iopub.status.idle": "2024-02-15T09:17:02.022723Z",
     "shell.execute_reply": "2024-02-15T09:17:02.021745Z",
     "shell.execute_reply.started": "2024-02-15T09:17:01.264421Z"
    }
   },
   "outputs": [],
   "source": [
    "pca = PCA().fit(X_train)"
   ]
  },
  {
   "cell_type": "code",
   "execution_count": null,
   "id": "c2d689cd-e2d2-4bfd-acf8-da1863db589f",
   "metadata": {
    "execution": {
     "iopub.execute_input": "2024-02-15T09:17:02.022723Z",
     "iopub.status.busy": "2024-02-15T09:17:02.022723Z",
     "iopub.status.idle": "2024-02-15T09:17:02.148024Z",
     "shell.execute_reply": "2024-02-15T09:17:02.148024Z",
     "shell.execute_reply.started": "2024-02-15T09:17:02.022723Z"
    }
   },
   "outputs": [],
   "source": [
    "cumulative_explained_variance = np.cumsum(pca.explained_variance_ratio_)\n",
    "\n",
    "num_components_95 = np.where(cumulative_explained_variance >= 0.95)[0][0] + 1\n",
    "\n",
    "plt.figure(figsize=(10, 7))\n",
    "plt.plot(\n",
    "    range(1, len(cumulative_explained_variance) + 1),\n",
    "    cumulative_explained_variance,\n",
    "    marker=\"o\",\n",
    "    linestyle=\"--\",\n",
    ")\n",
    "plt.title(\"Explained Variance by Number of Components\")\n",
    "plt.xlabel(\"Number of Components\")\n",
    "plt.ylabel(\"Cumulative Explained Variance\")\n",
    "plt.axhline(y=0.95, color=\"r\", linestyle=\"-\")\n",
    "plt.axvline(x=num_components_95, color=\"r\", linestyle=\"--\")\n",
    "plt.text(num_components_95, 0.9, f\"{num_components_95} Components\", ha=\"right\")\n",
    "plt.grid(True)\n",
    "plt.show()\n",
    "\n",
    "print(f\"Number of components that explain 95% of variance: {num_components_95}\")"
   ]
  },
  {
   "cell_type": "markdown",
   "id": "0d86da9c-4529-4453-a4a3-55c209da8866",
   "metadata": {},
   "source": [
    "From the above plot, we find that we can explain 95% of the variance in the data by using `168` components.\n",
    "\n",
    "Thus, we can keep only `168` features of the original `784` features and still reprsents the data quite good.\n"
   ]
  },
  {
   "cell_type": "markdown",
   "id": "79d870b0-7bc1-46a5-9fc8-25227c7c4f06",
   "metadata": {},
   "source": [
    "## Reduce the number of dimensions of the data using PCA and perform classification. You may want to select different principal components for the classification (not necessarily the first few). What is the (optimal) cross-validation performance of a Kernelized SVM classification with PCA? Remember to perform hyperparameter optimization!\n"
   ]
  },
  {
   "cell_type": "code",
   "execution_count": null,
   "id": "e3fce541-6c29-40cd-bacc-7ed04ad4426d",
   "metadata": {
    "execution": {
     "iopub.execute_input": "2024-02-15T09:17:02.149035Z",
     "iopub.status.busy": "2024-02-15T09:17:02.149035Z",
     "iopub.status.idle": "2024-02-15T09:17:02.165114Z",
     "shell.execute_reply": "2024-02-15T09:17:02.164122Z",
     "shell.execute_reply.started": "2024-02-15T09:17:02.149035Z"
    }
   },
   "outputs": [],
   "source": [
    "class ComponentSelector(BaseEstimator, TransformerMixin):\n",
    "    def __init__(self, components_to_skip=0):\n",
    "        self.components_to_skip = components_to_skip\n",
    "\n",
    "    def fit(self, X, y=None):\n",
    "        return self\n",
    "\n",
    "    def transform(self, X):\n",
    "        n_comp = X.shape[1]\n",
    "        if self.components_to_skip > 0 and n_comp - self.components_to_skip > 0:\n",
    "            return X[:, self.components_to_skip :]\n",
    "        return X"
   ]
  },
  {
   "cell_type": "code",
   "execution_count": null,
   "id": "79f5aecd-72e8-436b-a82d-fb26f3f77a45",
   "metadata": {
    "execution": {
     "iopub.execute_input": "2024-02-15T09:17:02.166122Z",
     "iopub.status.busy": "2024-02-15T09:17:02.165114Z",
     "iopub.status.idle": "2024-02-15T09:17:02.180639Z",
     "shell.execute_reply": "2024-02-15T09:17:02.179635Z",
     "shell.execute_reply.started": "2024-02-15T09:17:02.166122Z"
    }
   },
   "outputs": [],
   "source": [
    "pipeline = Pipeline(\n",
    "    [\n",
    "        (\"pca\", PCA()),\n",
    "        (\n",
    "            \"component_selector\",\n",
    "            ComponentSelector(),\n",
    "        ),\n",
    "        (\"svm\", SVC(kernel=\"rbf\")),\n",
    "    ]\n",
    ")"
   ]
  },
  {
   "cell_type": "code",
   "execution_count": null,
   "id": "b05fbfc7-31f1-434e-8a31-0b52537c9a77",
   "metadata": {
    "execution": {
     "iopub.execute_input": "2024-02-15T09:17:02.181634Z",
     "iopub.status.busy": "2024-02-15T09:17:02.180639Z",
     "iopub.status.idle": "2024-02-15T09:17:02.195644Z",
     "shell.execute_reply": "2024-02-15T09:17:02.195644Z",
     "shell.execute_reply.started": "2024-02-15T09:17:02.181634Z"
    }
   },
   "outputs": [],
   "source": [
    "param_grid = {\n",
    "    \"pca__n_components\": [5, 10, 15, 20, 30],\n",
    "    \"component_selector__components_to_skip\": [\n",
    "        0,\n",
    "        5,\n",
    "        10,\n",
    "    ],\n",
    "    \"svm__C\": [0.1, 1, 10, 100],\n",
    "    \"svm__gamma\": [0.01, 0.1, 1, 10, 100],\n",
    "}"
   ]
  },
  {
   "cell_type": "code",
   "execution_count": null,
   "id": "f4601a06-feac-4ff8-8ca9-5bb12d9c705c",
   "metadata": {
    "execution": {
     "iopub.execute_input": "2024-02-15T09:17:02.196635Z",
     "iopub.status.busy": "2024-02-15T09:17:02.196635Z",
     "iopub.status.idle": "2024-02-15T09:17:02.212635Z",
     "shell.execute_reply": "2024-02-15T09:17:02.211643Z",
     "shell.execute_reply.started": "2024-02-15T09:17:02.196635Z"
    }
   },
   "outputs": [],
   "source": [
    "grid_search = GridSearchCV(\n",
    "    pipeline,\n",
    "    param_grid,\n",
    "    cv=5,\n",
    "    scoring={\n",
    "        \"accuracy\": make_scorer(accuracy_score),\n",
    "        \"balanced_accuracy\": make_scorer(balanced_accuracy_score),\n",
    "        \"roc_auc\": make_scorer(roc_auc_score, response_method=\"decision_function\"),\n",
    "        \"pr_auc\": make_scorer(auc_pr_score, response_method=\"decision_function\"),\n",
    "        \"f1_score\": make_scorer(f1_score),\n",
    "        \"matthews_correlation_coefficient\": make_scorer(matthews_corrcoef),\n",
    "    },\n",
    "    refit=False,\n",
    "    n_jobs=-1,\n",
    "    verbose=1,\n",
    ")"
   ]
  },
  {
   "cell_type": "code",
   "execution_count": null,
   "id": "515e8062-4b85-48f1-bb6a-7e5e79e38f2a",
   "metadata": {
    "execution": {
     "iopub.execute_input": "2024-02-15T09:17:02.212635Z",
     "iopub.status.busy": "2024-02-15T09:17:02.212635Z",
     "iopub.status.idle": "2024-02-15T09:20:06.721556Z",
     "shell.execute_reply": "2024-02-15T09:20:06.720624Z",
     "shell.execute_reply.started": "2024-02-15T09:17:02.212635Z"
    }
   },
   "outputs": [],
   "source": [
    "grid_search.fit(X_train, y_train)"
   ]
  },
  {
   "cell_type": "code",
   "execution_count": null,
   "id": "ba785af2-3fbf-4487-b666-b6bb1c3c9ab5",
   "metadata": {
    "execution": {
     "iopub.execute_input": "2024-02-15T09:20:06.722556Z",
     "iopub.status.busy": "2024-02-15T09:20:06.721556Z",
     "iopub.status.idle": "2024-02-15T09:20:06.735561Z",
     "shell.execute_reply": "2024-02-15T09:20:06.735561Z",
     "shell.execute_reply.started": "2024-02-15T09:20:06.722556Z"
    }
   },
   "outputs": [],
   "source": [
    "pd.DataFrame(grid_search.cv_results_).loc[\n",
    "    :,\n",
    "    [\n",
    "        \"param_pca__n_components\",\n",
    "        \"param_component_selector__components_to_skip\",\n",
    "        \"param_svm__C\",\n",
    "        \"param_svm__gamma\",\n",
    "        \"mean_test_accuracy\",\n",
    "        \"mean_test_balanced_accuracy\",\n",
    "        \"mean_test_roc_auc\",\n",
    "        \"mean_test_pr_auc\",\n",
    "        \"mean_fit_time\",\n",
    "    ],\n",
    "].sort_values(by=[\"mean_test_pr_auc\", \"mean_test_roc_auc\"], ascending=False).head(5)"
   ]
  },
  {
   "cell_type": "markdown",
   "id": "a9a9b062-4556-440e-ab8d-a3e47d24018b",
   "metadata": {},
   "source": [
    "The above table shows the top 5 performing classifiers.\n",
    "\n",
    "Using PCa with `n_components=10` and skipping first `5` principal componenets with `C=10` and `gamma=0.1` we get PR AUC score of 0.58.\n",
    "\n",
    "This is clearly worse than previous performance achieved without using PCA (we got as close as 0.72).\n",
    "\n",
    "However, the adventage of PCA here is the speed up it offers on the fit time.\n"
   ]
  },
  {
   "cell_type": "markdown",
   "id": "83875ac3-f26f-4efd-954a-8c2f1ef8b2b9",
   "metadata": {
    "jp-MarkdownHeadingCollapsed": true
   },
   "source": [
    "# Question No. 5 Optimal Pipeline\n"
   ]
  },
  {
   "cell_type": "markdown",
   "id": "7f30585f-d5b6-44c1-a684-6af1c5b9c3ea",
   "metadata": {},
   "source": [
    "So far, we have seen the performance of different classification algorithms `KNN`, `SVM` and `RandomForests`. We have also found that using `Normalizer` as pre-processing step delivers good results. And finally, we found that using dimensionality reduction `PCA` doesn't deliver good results but have the adventage of running faster.\n",
    "\n",
    "To develop an _optimal_ pipeline, we will consider the following steps:\n",
    "\n",
    "1. Pre-processing: As a first step, we will study the effect of applying different pre-processing methods. We will focus only on `Normalizer` and `StandardScaler` because we saw from previous experiments that they deliver good results.\n",
    "\n",
    "2. Dimensionality reduction: For the second step, we will use `PCA` with differnet number of components. We saw earlier that using `168` components exaplin `95` of the variance of the data. Therefore, we will try the following different values for PCA: `[2, 10, 20, 100, 168]`. We will also try running the pipeline _without_ any dimensionality reduction.\n",
    "\n",
    "3. Classification: The last step is to build a classifier on the pre-processed and reduced data. We saw from earlier how KNN, SVM, and Random Forests perform. Here we also need the hyperparameters of each classifier , including number of neighbors, kernel type, number of trees, and so on.\n",
    "\n",
    "We will wrap these three steps in a `Pipeline` object and pass it to `GridSearchCV` to find the best performing parameters. As we have done earlier, we will define two separate (identical) objects for SVM alone and KNN and Random Forests. The reason for this is to ensure we are using either `.decision_function` or `.predict_proba`\n"
   ]
  },
  {
   "cell_type": "markdown",
   "id": "2db180db-d04b-4d66-af17-8aa4af746615",
   "metadata": {},
   "source": [
    "## SVM pipeline\n"
   ]
  },
  {
   "cell_type": "code",
   "execution_count": null,
   "id": "caadaece-3543-40de-9653-42176fc894b7",
   "metadata": {
    "execution": {
     "iopub.execute_input": "2024-02-15T09:20:06.737557Z",
     "iopub.status.busy": "2024-02-15T09:20:06.736554Z",
     "iopub.status.idle": "2024-02-15T09:20:06.752555Z",
     "shell.execute_reply": "2024-02-15T09:20:06.751554Z",
     "shell.execute_reply.started": "2024-02-15T09:20:06.736554Z"
    }
   },
   "outputs": [],
   "source": [
    "svm_pipeline = Pipeline(\n",
    "    [\n",
    "        (\"preprocessor\", StandardScaler()),\n",
    "        (\"reduction\", PCA()),\n",
    "        (\"classifier\", SVC(kernel=\"rbf\")),\n",
    "    ]\n",
    ")"
   ]
  },
  {
   "cell_type": "code",
   "execution_count": null,
   "id": "4c62bf64-7ede-4f9a-bd4d-15910662efab",
   "metadata": {
    "execution": {
     "iopub.execute_input": "2024-02-15T09:20:06.753554Z",
     "iopub.status.busy": "2024-02-15T09:20:06.753554Z",
     "iopub.status.idle": "2024-02-15T09:20:06.767564Z",
     "shell.execute_reply": "2024-02-15T09:20:06.767564Z",
     "shell.execute_reply.started": "2024-02-15T09:20:06.753554Z"
    }
   },
   "outputs": [],
   "source": [
    "svm_param_grid = {\n",
    "    \"preprocessor\": [\n",
    "        StandardScaler(),\n",
    "        Normalizer(),\n",
    "    ],\n",
    "    \"reduction\": [\n",
    "        PCA(n_components=2),\n",
    "        PCA(n_components=10),\n",
    "        PCA(n_components=20),\n",
    "        PCA(n_components=100),\n",
    "        PCA(n_components=168),\n",
    "        None,\n",
    "    ],\n",
    "    \"classifier__C\": [0.1, 1, 10, 100],\n",
    "    \"classifier__gamma\": [0.01, 0.1, 1, 10, 100],\n",
    "}"
   ]
  },
  {
   "cell_type": "code",
   "execution_count": null,
   "id": "b6634a15-4931-4238-a45d-d65335ba022c",
   "metadata": {
    "execution": {
     "iopub.execute_input": "2024-02-15T09:20:06.768554Z",
     "iopub.status.busy": "2024-02-15T09:20:06.768554Z",
     "iopub.status.idle": "2024-02-15T09:20:06.784555Z",
     "shell.execute_reply": "2024-02-15T09:20:06.783562Z",
     "shell.execute_reply.started": "2024-02-15T09:20:06.768554Z"
    }
   },
   "outputs": [],
   "source": [
    "# scoring function in SVM use the `decision_function` for calculating AUC metrics\n",
    "svm_scoring = {\n",
    "    \"accuracy\": make_scorer(accuracy_score),\n",
    "    \"balanced_accuracy\": make_scorer(balanced_accuracy_score),\n",
    "    \"roc_auc\": make_scorer(roc_auc_score, response_method=\"decision_function\"),\n",
    "    \"pr_auc\": make_scorer(auc_pr_score, response_method=\"decision_function\"),\n",
    "}"
   ]
  },
  {
   "cell_type": "code",
   "execution_count": null,
   "id": "22d0dd1e-4d39-46c2-9f77-b3e62df1f02a",
   "metadata": {
    "execution": {
     "iopub.execute_input": "2024-02-15T09:20:06.785557Z",
     "iopub.status.busy": "2024-02-15T09:20:06.784555Z",
     "iopub.status.idle": "2024-02-15T09:20:06.799568Z",
     "shell.execute_reply": "2024-02-15T09:20:06.799568Z",
     "shell.execute_reply.started": "2024-02-15T09:20:06.785557Z"
    }
   },
   "outputs": [],
   "source": [
    "# define a 5-fold cross validation grid search object for SVM\n",
    "svm_grid_search = GridSearchCV(\n",
    "    estimator=svm_pipeline,\n",
    "    param_grid=svm_param_grid,\n",
    "    cv=5,\n",
    "    scoring=svm_scoring,\n",
    "    n_jobs=-1,\n",
    "    refit=False,\n",
    "    verbose=1,\n",
    ")"
   ]
  },
  {
   "cell_type": "code",
   "execution_count": null,
   "id": "49e41f67-ee4d-4b46-8b59-0fb2af7bbb5e",
   "metadata": {
    "execution": {
     "iopub.execute_input": "2024-02-15T09:20:06.800559Z",
     "iopub.status.busy": "2024-02-15T09:20:06.800559Z",
     "iopub.status.idle": "2024-02-15T09:23:50.248326Z",
     "shell.execute_reply": "2024-02-15T09:23:50.247326Z",
     "shell.execute_reply.started": "2024-02-15T09:20:06.800559Z"
    }
   },
   "outputs": [],
   "source": [
    "svm_grid_search.fit(X_train, y_train)"
   ]
  },
  {
   "cell_type": "code",
   "execution_count": null,
   "id": "8286b8f9-44ab-40f9-a32d-eb36caaefbae",
   "metadata": {
    "execution": {
     "iopub.execute_input": "2024-02-15T09:23:50.249333Z",
     "iopub.status.busy": "2024-02-15T09:23:50.249333Z",
     "iopub.status.idle": "2024-02-15T09:23:50.263329Z",
     "shell.execute_reply": "2024-02-15T09:23:50.263329Z",
     "shell.execute_reply.started": "2024-02-15T09:23:50.249333Z"
    }
   },
   "outputs": [],
   "source": [
    "pd.DataFrame(svm_grid_search.cv_results_)[\"mean_test_pr_auc\"].max()"
   ]
  },
  {
   "cell_type": "markdown",
   "id": "e4619c19-a36f-4ab5-a32f-6fa9d2d9cc80",
   "metadata": {},
   "source": [
    "## KNN/Random Forests Pipeline:\n"
   ]
  },
  {
   "cell_type": "code",
   "execution_count": null,
   "id": "9d559f49-e18b-4df3-88a1-a00a08fb177f",
   "metadata": {
    "execution": {
     "iopub.execute_input": "2024-02-15T09:23:50.265329Z",
     "iopub.status.busy": "2024-02-15T09:23:50.264333Z",
     "iopub.status.idle": "2024-02-15T09:23:50.280326Z",
     "shell.execute_reply": "2024-02-15T09:23:50.279337Z",
     "shell.execute_reply.started": "2024-02-15T09:23:50.265329Z"
    }
   },
   "outputs": [],
   "source": [
    "rf_knn_pipeline = Pipeline(\n",
    "    [\n",
    "        (\"preprocessor\", StandardScaler()),\n",
    "        (\"reduction\", PCA()),\n",
    "        (\"classifier\", RandomForestClassifier()),\n",
    "    ]\n",
    ")"
   ]
  },
  {
   "cell_type": "code",
   "execution_count": null,
   "id": "083a8aa8-f0f9-41c9-8677-a7e4cfb86744",
   "metadata": {
    "execution": {
     "iopub.execute_input": "2024-02-15T09:23:50.281327Z",
     "iopub.status.busy": "2024-02-15T09:23:50.281327Z",
     "iopub.status.idle": "2024-02-15T09:23:50.296330Z",
     "shell.execute_reply": "2024-02-15T09:23:50.295330Z",
     "shell.execute_reply.started": "2024-02-15T09:23:50.281327Z"
    }
   },
   "outputs": [],
   "source": [
    "rf_knn_param_grid = [\n",
    "    {\n",
    "        \"preprocessor\": [\n",
    "            StandardScaler(),\n",
    "            Normalizer(),\n",
    "        ],\n",
    "        \"reduction\": [\n",
    "            PCA(n_components=2),\n",
    "            PCA(n_components=10),\n",
    "            PCA(n_components=20),\n",
    "            PCA(n_components=100),\n",
    "            PCA(n_components=168),\n",
    "            None,\n",
    "        ],\n",
    "        \"classifier\": [KNeighborsClassifier()],\n",
    "        \"classifier__n_neighbors\": [2, 5, 10],\n",
    "    },\n",
    "    {\n",
    "        \"preprocessor\": [\n",
    "            StandardScaler(),\n",
    "            Normalizer(),\n",
    "        ],\n",
    "        \"reduction\": [\n",
    "            PCA(n_components=2),\n",
    "            PCA(n_components=10),\n",
    "            PCA(n_components=20),\n",
    "            PCA(n_components=100),\n",
    "            PCA(n_components=168),\n",
    "            None,\n",
    "        ],\n",
    "        \"classifier\": [RandomForestClassifier()],\n",
    "        \"classifier__n_estimators\": [50, 100, 200],\n",
    "        \"classifier__max_depth\": [10, 20, None],\n",
    "    },\n",
    "]"
   ]
  },
  {
   "cell_type": "code",
   "execution_count": null,
   "id": "b6a75ad3-8b6a-4202-a846-b131207357f1",
   "metadata": {
    "execution": {
     "iopub.execute_input": "2024-02-15T09:23:50.297330Z",
     "iopub.status.busy": "2024-02-15T09:23:50.296330Z",
     "iopub.status.idle": "2024-02-15T09:23:50.310840Z",
     "shell.execute_reply": "2024-02-15T09:23:50.310840Z",
     "shell.execute_reply.started": "2024-02-15T09:23:50.297330Z"
    }
   },
   "outputs": [],
   "source": [
    "# # scoring function in Random Forest and KNN use the `predict_proba` for calculating AUC metrics\n",
    "rf_knn_scoring = {\n",
    "    \"accuracy\": make_scorer(accuracy_score),\n",
    "    \"balanced_accuracy\": make_scorer(balanced_accuracy_score),\n",
    "    \"roc_auc\": make_scorer(roc_auc_score, response_method=\"predict_proba\"),\n",
    "    \"pr_auc\": make_scorer(auc_pr_score, response_method=\"predict_proba\"),\n",
    "}"
   ]
  },
  {
   "cell_type": "code",
   "execution_count": null,
   "id": "d982bb46-0fa4-4f9b-9d35-2820f85ad53e",
   "metadata": {
    "execution": {
     "iopub.execute_input": "2024-02-15T09:23:50.311839Z",
     "iopub.status.busy": "2024-02-15T09:23:50.311839Z",
     "iopub.status.idle": "2024-02-15T09:23:50.327838Z",
     "shell.execute_reply": "2024-02-15T09:23:50.326841Z",
     "shell.execute_reply.started": "2024-02-15T09:23:50.311839Z"
    }
   },
   "outputs": [],
   "source": [
    "# define a 5-fold cross validation grid search object for Random Forests\n",
    "rf_knn_grid_search = GridSearchCV(\n",
    "    estimator=rf_knn_pipeline,\n",
    "    param_grid=rf_knn_param_grid,\n",
    "    cv=5,\n",
    "    scoring=rf_knn_scoring,\n",
    "    n_jobs=-1,\n",
    "    refit=False,\n",
    "    verbose=1,\n",
    ")"
   ]
  },
  {
   "cell_type": "code",
   "execution_count": null,
   "id": "59226891-2ed2-45e9-bfb0-9a60e02af11f",
   "metadata": {
    "execution": {
     "iopub.execute_input": "2024-02-15T09:23:50.327838Z",
     "iopub.status.busy": "2024-02-15T09:23:50.327838Z",
     "iopub.status.idle": "2024-02-15T09:25:36.457572Z",
     "shell.execute_reply": "2024-02-15T09:25:36.457572Z",
     "shell.execute_reply.started": "2024-02-15T09:23:50.327838Z"
    }
   },
   "outputs": [],
   "source": [
    "rf_knn_grid_search.fit(X_train, y_train)"
   ]
  },
  {
   "cell_type": "code",
   "execution_count": null,
   "id": "bd35a250-bd4c-4c05-b85e-59b3b76870b4",
   "metadata": {
    "execution": {
     "iopub.execute_input": "2024-02-15T09:25:36.458544Z",
     "iopub.status.busy": "2024-02-15T09:25:36.458544Z",
     "iopub.status.idle": "2024-02-15T09:25:36.474532Z",
     "shell.execute_reply": "2024-02-15T09:25:36.473541Z",
     "shell.execute_reply.started": "2024-02-15T09:25:36.458544Z"
    }
   },
   "outputs": [],
   "source": [
    "pd.DataFrame(rf_knn_grid_search.cv_results_)[\"mean_test_pr_auc\"].max()"
   ]
  },
  {
   "cell_type": "markdown",
   "id": "87a159ae-d2d7-459b-840f-7edd6afc8a55",
   "metadata": {},
   "source": [
    "## Optimal pipeline:\n"
   ]
  },
  {
   "cell_type": "code",
   "execution_count": null,
   "id": "d1f5bbd5-8eda-4fda-8a63-2a5dff9406f0",
   "metadata": {
    "execution": {
     "iopub.execute_input": "2024-02-15T09:25:36.475534Z",
     "iopub.status.busy": "2024-02-15T09:25:36.474532Z",
     "iopub.status.idle": "2024-02-15T09:25:36.490542Z",
     "shell.execute_reply": "2024-02-15T09:25:36.489610Z",
     "shell.execute_reply.started": "2024-02-15T09:25:36.474532Z"
    }
   },
   "outputs": [],
   "source": [
    "svm_top_results = (\n",
    "    pd.DataFrame(svm_grid_search.cv_results_)\n",
    "    .sort_values(by=\"mean_test_pr_auc\", ascending=False)[\n",
    "        [\n",
    "            \"param_preprocessor\",\n",
    "            \"param_reduction\",\n",
    "            \"param_classifier__C\",\n",
    "            \"param_classifier__gamma\",\n",
    "            \"mean_test_accuracy\",\n",
    "            \"mean_test_balanced_accuracy\",\n",
    "            \"mean_test_roc_auc\",\n",
    "            \"mean_test_pr_auc\",\n",
    "            \"mean_fit_time\",\n",
    "        ]\n",
    "    ]\n",
    "    .head(1)\n",
    ")"
   ]
  },
  {
   "cell_type": "code",
   "execution_count": null,
   "id": "7a80ad19-9be8-4278-9af2-0f653961e37d",
   "metadata": {
    "execution": {
     "iopub.execute_input": "2024-02-15T09:25:36.491588Z",
     "iopub.status.busy": "2024-02-15T09:25:36.491588Z",
     "iopub.status.idle": "2024-02-15T09:25:36.506552Z",
     "shell.execute_reply": "2024-02-15T09:25:36.505541Z",
     "shell.execute_reply.started": "2024-02-15T09:25:36.491588Z"
    }
   },
   "outputs": [],
   "source": [
    "rf_top_results = (\n",
    "    pd.DataFrame(rf_knn_grid_search.cv_results_)\n",
    "    .sort_values(by=\"mean_test_pr_auc\", ascending=False)[\n",
    "        [\n",
    "            \"param_preprocessor\",\n",
    "            \"param_reduction\",\n",
    "            \"param_classifier\",\n",
    "            \"param_classifier__n_estimators\",\n",
    "            \"param_classifier__max_depth\",\n",
    "            \"mean_test_accuracy\",\n",
    "            \"mean_test_balanced_accuracy\",\n",
    "            \"mean_test_roc_auc\",\n",
    "            \"mean_test_pr_auc\",\n",
    "            \"mean_fit_time\",\n",
    "        ]\n",
    "    ]\n",
    "    .head(1)\n",
    ")"
   ]
  },
  {
   "cell_type": "code",
   "execution_count": null,
   "id": "240a8e99-e72a-43c9-9bfe-26d37a2cfbbb",
   "metadata": {
    "execution": {
     "iopub.execute_input": "2024-02-15T09:25:36.507535Z",
     "iopub.status.busy": "2024-02-15T09:25:36.507535Z",
     "iopub.status.idle": "2024-02-15T09:25:36.522540Z",
     "shell.execute_reply": "2024-02-15T09:25:36.521540Z",
     "shell.execute_reply.started": "2024-02-15T09:25:36.507535Z"
    }
   },
   "outputs": [],
   "source": [
    "svm_top_results"
   ]
  },
  {
   "cell_type": "code",
   "execution_count": null,
   "id": "f4f1ed0d-1a17-4370-bf34-a100ae7fdd8b",
   "metadata": {
    "execution": {
     "iopub.execute_input": "2024-02-15T09:25:36.523540Z",
     "iopub.status.busy": "2024-02-15T09:25:36.522540Z",
     "iopub.status.idle": "2024-02-15T09:25:36.537059Z",
     "shell.execute_reply": "2024-02-15T09:25:36.537059Z",
     "shell.execute_reply.started": "2024-02-15T09:25:36.523540Z"
    }
   },
   "outputs": [],
   "source": [
    "rf_top_results"
   ]
  },
  {
   "cell_type": "markdown",
   "id": "6a750518-a750-4ac4-b0b6-1514f74d9255",
   "metadata": {},
   "source": [
    "The results are somewhat similar. The random forest classifier achieves better ROC-AUC score.\n",
    "\n",
    "The optimal pipeline will be:\n",
    "\n",
    "1. Normalizer for pre-processing\n",
    "2. No dimensionality reduction\n",
    "3. Random Forests with 200 trees and 20 as max depth.\n"
   ]
  },
  {
   "cell_type": "code",
   "execution_count": null,
   "id": "4990024e-022c-458c-840c-60c66604f67f",
   "metadata": {
    "execution": {
     "iopub.execute_input": "2024-02-15T09:25:36.538087Z",
     "iopub.status.busy": "2024-02-15T09:25:36.538087Z",
     "iopub.status.idle": "2024-02-15T09:25:36.554069Z",
     "shell.execute_reply": "2024-02-15T09:25:36.553066Z",
     "shell.execute_reply.started": "2024-02-15T09:25:36.538087Z"
    }
   },
   "outputs": [],
   "source": [
    "optimal_pipeline = Pipeline(\n",
    "    [\n",
    "        (\"preprocessor\", Normalizer()),\n",
    "        (\"classifier\", RandomForestClassifier(n_estimators=200, max_depth=20)),\n",
    "    ]\n",
    ")"
   ]
  },
  {
   "cell_type": "code",
   "execution_count": null,
   "id": "c1c0753b-af1f-467e-970a-ff7ae4452bf3",
   "metadata": {
    "execution": {
     "iopub.execute_input": "2024-02-15T09:25:36.555071Z",
     "iopub.status.busy": "2024-02-15T09:25:36.554069Z",
     "iopub.status.idle": "2024-02-15T09:25:41.150743Z",
     "shell.execute_reply": "2024-02-15T09:25:41.149751Z",
     "shell.execute_reply.started": "2024-02-15T09:25:36.555071Z"
    }
   },
   "outputs": [],
   "source": [
    "optimal_pipeline.fit(X_train, y_train)"
   ]
  },
  {
   "cell_type": "code",
   "execution_count": null,
   "id": "ad24d3ce-60ff-420e-a034-e2d5fb7dba43",
   "metadata": {
    "execution": {
     "iopub.execute_input": "2024-02-15T09:25:41.151756Z",
     "iopub.status.busy": "2024-02-15T09:25:41.151756Z",
     "iopub.status.idle": "2024-02-15T09:25:41.228777Z",
     "shell.execute_reply": "2024-02-15T09:25:41.228006Z",
     "shell.execute_reply.started": "2024-02-15T09:25:41.151756Z"
    }
   },
   "outputs": [],
   "source": [
    "y_pred_score = optimal_pipeline.predict_proba(X_test)"
   ]
  },
  {
   "cell_type": "code",
   "execution_count": null,
   "id": "4745b64c-e6f1-462a-9e5e-0e56c0236d56",
   "metadata": {
    "execution": {
     "iopub.execute_input": "2024-02-15T09:25:41.228777Z",
     "iopub.status.busy": "2024-02-15T09:25:41.228777Z",
     "iopub.status.idle": "2024-02-15T09:25:41.243298Z",
     "shell.execute_reply": "2024-02-15T09:25:41.243298Z",
     "shell.execute_reply.started": "2024-02-15T09:25:41.228777Z"
    }
   },
   "outputs": [],
   "source": [
    "prediction_data = pd.DataFrame(data=y_pred_score[:, 1], columns=[\"y_score\"])"
   ]
  },
  {
   "cell_type": "code",
   "execution_count": null,
   "id": "ccb1dc52-d0ab-4acd-a7d6-5b0f61e4b444",
   "metadata": {
    "execution": {
     "iopub.execute_input": "2024-02-15T09:25:41.244291Z",
     "iopub.status.busy": "2024-02-15T09:25:41.244291Z",
     "iopub.status.idle": "2024-02-15T09:25:41.259293Z",
     "shell.execute_reply": "2024-02-15T09:25:41.259293Z",
     "shell.execute_reply.started": "2024-02-15T09:25:41.244291Z"
    }
   },
   "outputs": [],
   "source": [
    "prediction_data.head()"
   ]
  },
  {
   "cell_type": "code",
   "execution_count": null,
   "id": "07b2d318-283d-41d0-a7c7-cb08395609be",
   "metadata": {
    "execution": {
     "iopub.execute_input": "2024-02-15T09:25:41.260301Z",
     "iopub.status.busy": "2024-02-15T09:25:41.260301Z",
     "iopub.status.idle": "2024-02-15T09:25:41.274298Z",
     "shell.execute_reply": "2024-02-15T09:25:41.274298Z",
     "shell.execute_reply.started": "2024-02-15T09:25:41.260301Z"
    }
   },
   "outputs": [],
   "source": [
    "prediction_data.to_csv(\"u2283791.csv\", index=False)"
   ]
  },
  {
   "cell_type": "markdown",
   "id": "ccba0dbd-6e5b-4734-a75b-3577e858bb3a",
   "metadata": {},
   "source": [
    "# Question No. 6 Another classification problem\n"
   ]
  },
  {
   "cell_type": "markdown",
   "id": "21d50d31-f1b5-4469-a0a1-ba167c873e88",
   "metadata": {},
   "source": [
    "To re-build the data as explained in the question, we will create two arrays: `X_all` and `y_all`.\n",
    "\n",
    "`X_all` is the result of (vertically) stacking `X_train` and `X_test` and `y_all` is an array filled with the labels `-1` for first _3000_ elements and `+1` for the second _3000_ elements.\n"
   ]
  },
  {
   "cell_type": "code",
   "execution_count": null,
   "id": "2c98aed8-e45b-45f7-b609-fc48f071deb5",
   "metadata": {
    "execution": {
     "iopub.execute_input": "2024-02-15T09:25:41.275302Z",
     "iopub.status.busy": "2024-02-15T09:25:41.275302Z",
     "iopub.status.idle": "2024-02-15T09:25:41.290300Z",
     "shell.execute_reply": "2024-02-15T09:25:41.290300Z",
     "shell.execute_reply.started": "2024-02-15T09:25:41.275302Z"
    }
   },
   "outputs": [],
   "source": [
    "# concatenate the two arrays\n",
    "X_all = np.vstack((X_train, X_test))\n",
    "\n",
    "# create a label array for the whole data\n",
    "# first 3000 elements are from training data\n",
    "# and last 3000 elements are from testing data\n",
    "y_all = np.empty(X_all.shape[0], dtype=int)\n",
    "y_all[:3000] = -1\n",
    "y_all[3000:] = 1"
   ]
  },
  {
   "cell_type": "code",
   "execution_count": null,
   "id": "484cf582-9627-4408-bbf1-7569bcf2cfcb",
   "metadata": {
    "execution": {
     "iopub.execute_input": "2024-02-15T09:25:41.291291Z",
     "iopub.status.busy": "2024-02-15T09:25:41.291291Z",
     "iopub.status.idle": "2024-02-15T09:25:41.307291Z",
     "shell.execute_reply": "2024-02-15T09:25:41.306299Z",
     "shell.execute_reply.started": "2024-02-15T09:25:41.291291Z"
    }
   },
   "outputs": [],
   "source": [
    "skf = StratifiedKFold(n_splits=5)"
   ]
  },
  {
   "cell_type": "code",
   "execution_count": null,
   "id": "d7dafae8-581f-4520-87fa-b834214d2502",
   "metadata": {
    "execution": {
     "iopub.execute_input": "2024-02-15T09:25:41.307291Z",
     "iopub.status.busy": "2024-02-15T09:25:41.307291Z",
     "iopub.status.idle": "2024-02-15T09:25:41.322316Z",
     "shell.execute_reply": "2024-02-15T09:25:41.322316Z",
     "shell.execute_reply.started": "2024-02-15T09:25:41.307291Z"
    }
   },
   "outputs": [],
   "source": [
    "optimal_pipeline"
   ]
  },
  {
   "cell_type": "code",
   "execution_count": null,
   "id": "37edb276-cf3d-43a1-9603-4bc32d1c03db",
   "metadata": {
    "execution": {
     "iopub.execute_input": "2024-02-15T09:25:41.323318Z",
     "iopub.status.busy": "2024-02-15T09:25:41.323318Z",
     "iopub.status.idle": "2024-02-15T09:26:23.797095Z",
     "shell.execute_reply": "2024-02-15T09:26:23.796089Z",
     "shell.execute_reply.started": "2024-02-15T09:25:41.323318Z"
    }
   },
   "outputs": [],
   "source": [
    "# perform 5 folds cross validation on the *training* data and store the metrics in the `folds_results` list\n",
    "\n",
    "folds_results = []\n",
    "\n",
    "for fold, (train_index, test_index) in enumerate(skf.split(X_all, y_all)):\n",
    "    # build the corresponding training and \"validation\" data\n",
    "    X_train_fold, y_train_fold = X_all[train_index], y_all[train_index]\n",
    "    X_test_fold, y_test_fold = X_all[test_index], y_all[test_index]\n",
    "\n",
    "    # print label percentage for debugging\n",
    "    print(f\"Fold: {fold + 1}\")\n",
    "    print(\n",
    "        f\"Percentage of positive class in training data: {get_label_freq(y_train_fold, 1, True):.2f}\"\n",
    "    )\n",
    "    print(\n",
    "        f\"Percentage of negative class in training data: {get_label_freq(y_train_fold, -1, True):.2f}\"\n",
    "    )\n",
    "\n",
    "    print(\n",
    "        f\"Percentage of positive class in validation data: {get_label_freq(y_test_fold, 1, True):.2f}\"\n",
    "    )\n",
    "    print(\n",
    "        f\"Percentage of negative class in validation data: {get_label_freq(y_test_fold, -1, True):.2f}\"\n",
    "    )\n",
    "\n",
    "    print(\"==\" * 30)\n",
    "\n",
    "    # fit the classifier to the training data\n",
    "    optimal_pipeline.fit(X_train_fold, y_train_fold)\n",
    "\n",
    "    # get predictions on the validation data\n",
    "    y_pred_fold = optimal_pipeline.predict(X_test_fold)\n",
    "\n",
    "    # get prediction probabilities on the validation data\n",
    "    # for calculating AUC-ROC and AUC-PR metrics\n",
    "    y_pred_proba_fold = knn.predict_proba(X_test_fold)\n",
    "\n",
    "    folds_results.append(\n",
    "        {\n",
    "            \"fold\": fold + 1,\n",
    "            \"accuracy\": accuracy_score(y_test_fold, y_pred_fold),\n",
    "            \"balanced_accuracy\": balanced_accuracy_score(y_test_fold, y_pred_fold),\n",
    "            \"roc_auc\": roc_auc_score(y_test_fold, y_pred_proba_fold[:, 1]),\n",
    "            \"pr_auc\": auc_pr_score(y_test_fold, y_pred_proba_fold[:, 1]),\n",
    "            \"f1_score\": f1_score(y_test_fold, y_pred_fold),\n",
    "            \"matthews_correlation_coefficient\": matthews_corrcoef(\n",
    "                y_test_fold, y_pred_fold\n",
    "            ),\n",
    "        }\n",
    "    )"
   ]
  },
  {
   "cell_type": "code",
   "execution_count": null,
   "id": "90d071fe-2b27-4bb7-b3d3-85fbc9ef5a94",
   "metadata": {
    "execution": {
     "iopub.execute_input": "2024-02-15T09:26:23.798091Z",
     "iopub.status.busy": "2024-02-15T09:26:23.798091Z",
     "iopub.status.idle": "2024-02-15T09:26:23.812091Z",
     "shell.execute_reply": "2024-02-15T09:26:23.812091Z",
     "shell.execute_reply.started": "2024-02-15T09:26:23.798091Z"
    }
   },
   "outputs": [],
   "source": [
    "metrics_df = pd.DataFrame(folds_results)"
   ]
  },
  {
   "cell_type": "code",
   "execution_count": null,
   "id": "49708e73-068f-479f-bcd6-e9f886d8bc0b",
   "metadata": {
    "execution": {
     "iopub.execute_input": "2024-02-15T09:26:23.814109Z",
     "iopub.status.busy": "2024-02-15T09:26:23.813090Z",
     "iopub.status.idle": "2024-02-15T09:26:23.829094Z",
     "shell.execute_reply": "2024-02-15T09:26:23.828091Z",
     "shell.execute_reply.started": "2024-02-15T09:26:23.814109Z"
    }
   },
   "outputs": [],
   "source": [
    "metrics_statistics_df = pd.DataFrame(\n",
    "    data=[metrics_df.mean(), metrics_df.std()], index=[\"mean\", \"standard_deviation\"]\n",
    ").drop(columns=[\"fold\"])"
   ]
  },
  {
   "cell_type": "code",
   "execution_count": null,
   "id": "a335e6a6-dc47-4140-a0c8-762df1083a2b",
   "metadata": {
    "execution": {
     "iopub.execute_input": "2024-02-15T09:26:23.830094Z",
     "iopub.status.busy": "2024-02-15T09:26:23.830094Z",
     "iopub.status.idle": "2024-02-15T09:26:23.844623Z",
     "shell.execute_reply": "2024-02-15T09:26:23.843616Z",
     "shell.execute_reply.started": "2024-02-15T09:26:23.830094Z"
    }
   },
   "outputs": [],
   "source": [
    "metrics_statistics_df"
   ]
  },
  {
   "cell_type": "code",
   "execution_count": null,
   "id": "a0ae5d7b-0c31-4dba-96a7-771f6b17c194",
   "metadata": {},
   "outputs": [],
   "source": []
  }
 ],
 "metadata": {
  "kernelspec": {
   "display_name": "cs909-assignment-1-venv",
   "language": "python",
   "name": "python3"
  },
  "language_info": {
   "codemirror_mode": {
    "name": "ipython",
    "version": 3
   },
   "file_extension": ".py",
   "mimetype": "text/x-python",
   "name": "python",
   "nbconvert_exporter": "python",
   "pygments_lexer": "ipython3",
   "version": "3.10.0"
  }
 },
 "nbformat": 4,
 "nbformat_minor": 5
}
