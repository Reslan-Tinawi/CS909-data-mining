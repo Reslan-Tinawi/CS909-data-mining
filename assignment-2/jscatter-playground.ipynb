{
 "cells": [
  {
   "cell_type": "code",
   "execution_count": null,
   "id": "6b94fb1d-638a-4e07-9df4-3a904514ae9a",
   "metadata": {
    "execution": {
     "iopub.execute_input": "2024-02-29T16:21:23.779579Z",
     "iopub.status.busy": "2024-02-29T16:21:23.779579Z",
     "iopub.status.idle": "2024-02-29T16:21:23.790591Z",
     "shell.execute_reply": "2024-02-29T16:21:23.790591Z",
     "shell.execute_reply.started": "2024-02-29T16:21:23.779579Z"
    }
   },
   "outputs": [],
   "source": [
    "import jscatter\n",
    "import matplotlib.pyplot as plt\n",
    "import numpy as np\n",
    "import pandas as pd\n",
    "from sklearn.decomposition import PCA"
   ]
  },
  {
   "cell_type": "code",
   "execution_count": null,
   "id": "81329131-fc51-4c54-bd1c-03caaf38621a",
   "metadata": {
    "execution": {
     "iopub.execute_input": "2024-02-29T16:21:00.260475Z",
     "iopub.status.busy": "2024-02-29T16:21:00.260475Z",
     "iopub.status.idle": "2024-02-29T16:21:00.623348Z",
     "shell.execute_reply": "2024-02-29T16:21:00.623348Z",
     "shell.execute_reply.started": "2024-02-29T16:21:00.260475Z"
    }
   },
   "outputs": [],
   "source": [
    "X = np.loadtxt(\"../assignment-1/data/Xtrain.csv\")"
   ]
  },
  {
   "cell_type": "code",
   "execution_count": null,
   "id": "bf2a2f61-eeac-4e96-a1c2-865e003431f3",
   "metadata": {
    "execution": {
     "iopub.execute_input": "2024-02-29T16:21:02.927968Z",
     "iopub.status.busy": "2024-02-29T16:21:02.927968Z",
     "iopub.status.idle": "2024-02-29T16:21:02.949969Z",
     "shell.execute_reply": "2024-02-29T16:21:02.949969Z",
     "shell.execute_reply.started": "2024-02-29T16:21:02.927968Z"
    }
   },
   "outputs": [],
   "source": [
    "y = np.loadtxt(\"../assignment-1/data/Ytrain.csv\")"
   ]
  },
  {
   "cell_type": "code",
   "execution_count": null,
   "id": "db2e107c-e207-40da-8253-fdd06bc5ac49",
   "metadata": {
    "execution": {
     "iopub.execute_input": "2024-02-29T16:21:05.650402Z",
     "iopub.status.busy": "2024-02-29T16:21:05.650402Z",
     "iopub.status.idle": "2024-02-29T16:21:05.672407Z",
     "shell.execute_reply": "2024-02-29T16:21:05.672407Z",
     "shell.execute_reply.started": "2024-02-29T16:21:05.650402Z"
    }
   },
   "outputs": [],
   "source": [
    "X.shape"
   ]
  },
  {
   "cell_type": "code",
   "execution_count": null,
   "id": "446fface-2ac2-4b6d-b9e9-df298cd898f0",
   "metadata": {
    "execution": {
     "iopub.execute_input": "2024-02-29T16:22:29.236549Z",
     "iopub.status.busy": "2024-02-29T16:22:29.236549Z",
     "iopub.status.idle": "2024-02-29T16:22:29.599769Z",
     "shell.execute_reply": "2024-02-29T16:22:29.599769Z",
     "shell.execute_reply.started": "2024-02-29T16:22:29.236549Z"
    }
   },
   "outputs": [],
   "source": [
    "plt.matshow(X[0, :].reshape(28, 28), cmap=\"gray\")"
   ]
  },
  {
   "cell_type": "code",
   "execution_count": null,
   "id": "8ce6cd2e-ba99-4ef7-8d63-3806d334c8f0",
   "metadata": {
    "execution": {
     "iopub.execute_input": "2024-02-29T16:23:08.862124Z",
     "iopub.status.busy": "2024-02-29T16:23:08.862124Z",
     "iopub.status.idle": "2024-02-29T16:23:08.873173Z",
     "shell.execute_reply": "2024-02-29T16:23:08.873173Z",
     "shell.execute_reply.started": "2024-02-29T16:23:08.862124Z"
    }
   },
   "outputs": [],
   "source": [
    "pca = PCA(n_components=2)"
   ]
  },
  {
   "cell_type": "code",
   "execution_count": null,
   "id": "a8e90533-2a95-4d17-ae89-e7b60719ab5a",
   "metadata": {
    "execution": {
     "iopub.execute_input": "2024-02-29T16:26:16.374763Z",
     "iopub.status.busy": "2024-02-29T16:26:16.374763Z",
     "iopub.status.idle": "2024-02-29T16:26:16.500676Z",
     "shell.execute_reply": "2024-02-29T16:26:16.500676Z",
     "shell.execute_reply.started": "2024-02-29T16:26:16.374763Z"
    }
   },
   "outputs": [],
   "source": [
    "X_reduced = pca.fit_transform(X)"
   ]
  },
  {
   "cell_type": "code",
   "execution_count": null,
   "id": "8525865c-598c-4a96-9096-0c32c2bc2341",
   "metadata": {
    "execution": {
     "iopub.execute_input": "2024-02-29T16:26:21.806960Z",
     "iopub.status.busy": "2024-02-29T16:26:21.806960Z",
     "iopub.status.idle": "2024-02-29T16:26:21.822599Z",
     "shell.execute_reply": "2024-02-29T16:26:21.822599Z",
     "shell.execute_reply.started": "2024-02-29T16:26:21.806960Z"
    }
   },
   "outputs": [],
   "source": [
    "X_reduced.shape"
   ]
  },
  {
   "cell_type": "code",
   "execution_count": null,
   "id": "911e0d95-6b80-4d06-8d1d-b93338591553",
   "metadata": {
    "execution": {
     "iopub.execute_input": "2024-02-29T16:26:28.726958Z",
     "iopub.status.busy": "2024-02-29T16:26:28.717945Z",
     "iopub.status.idle": "2024-02-29T16:26:28.742607Z",
     "shell.execute_reply": "2024-02-29T16:26:28.742607Z",
     "shell.execute_reply.started": "2024-02-29T16:26:28.726958Z"
    }
   },
   "outputs": [],
   "source": [
    "y.shape"
   ]
  },
  {
   "cell_type": "code",
   "execution_count": null,
   "id": "aa2ba910-d647-4c8d-8ea8-28abba7df40c",
   "metadata": {
    "execution": {
     "iopub.execute_input": "2024-02-29T16:34:44.708546Z",
     "iopub.status.busy": "2024-02-29T16:34:44.708546Z",
     "iopub.status.idle": "2024-02-29T16:34:44.724243Z",
     "shell.execute_reply": "2024-02-29T16:34:44.724243Z",
     "shell.execute_reply.started": "2024-02-29T16:34:44.708546Z"
    }
   },
   "outputs": [],
   "source": [
    "plot_df = pd.DataFrame(\n",
    "    data=np.hstack((X_reduced, y.astype(\"int\").reshape(-1, 1))),\n",
    "    columns=[\"pc_1\", \"pc_2\", \"label\"],\n",
    ")"
   ]
  },
  {
   "cell_type": "code",
   "execution_count": null,
   "id": "023206e7-8ddf-4404-a961-4fbb2461e7ed",
   "metadata": {
    "execution": {
     "iopub.execute_input": "2024-02-29T16:34:45.524657Z",
     "iopub.status.busy": "2024-02-29T16:34:45.524657Z",
     "iopub.status.idle": "2024-02-29T16:34:45.556325Z",
     "shell.execute_reply": "2024-02-29T16:34:45.556325Z",
     "shell.execute_reply.started": "2024-02-29T16:34:45.524657Z"
    }
   },
   "outputs": [],
   "source": [
    "plot_df.head()"
   ]
  },
  {
   "cell_type": "code",
   "execution_count": null,
   "id": "cb4956f6-8b03-4196-bd67-3cccdea94668",
   "metadata": {
    "execution": {
     "iopub.execute_input": "2024-02-29T16:34:47.050680Z",
     "iopub.status.busy": "2024-02-29T16:34:47.050680Z",
     "iopub.status.idle": "2024-02-29T16:34:47.094460Z",
     "shell.execute_reply": "2024-02-29T16:34:47.094460Z",
     "shell.execute_reply.started": "2024-02-29T16:34:47.050680Z"
    }
   },
   "outputs": [],
   "source": [
    "plot_df[\"label\"] = plot_df[\"label\"].map(lambda x: \"pos\" if x == 1 else \"neg\")"
   ]
  },
  {
   "cell_type": "code",
   "execution_count": null,
   "id": "24e53b63-f628-421d-8060-cf371743a9fc",
   "metadata": {
    "execution": {
     "iopub.execute_input": "2024-02-29T16:34:57.843727Z",
     "iopub.status.busy": "2024-02-29T16:34:57.843727Z",
     "iopub.status.idle": "2024-02-29T16:34:57.859367Z",
     "shell.execute_reply": "2024-02-29T16:34:57.859367Z",
     "shell.execute_reply.started": "2024-02-29T16:34:57.843727Z"
    }
   },
   "outputs": [],
   "source": [
    "plot_df.head()"
   ]
  },
  {
   "cell_type": "code",
   "execution_count": null,
   "id": "9b724ce8-0c00-4d36-b10d-d858b72fec76",
   "metadata": {
    "execution": {
     "iopub.execute_input": "2024-02-29T16:38:24.188223Z",
     "iopub.status.busy": "2024-02-29T16:38:24.188223Z",
     "iopub.status.idle": "2024-02-29T16:38:24.282414Z",
     "shell.execute_reply": "2024-02-29T16:38:24.282414Z",
     "shell.execute_reply.started": "2024-02-29T16:38:24.188223Z"
    }
   },
   "outputs": [],
   "source": [
    "scatter = jscatter.Scatter(data=plot_df, x=\"pc_1\", y=\"pc_2\",)\n",
    "scatter.color(by=\"label\")\n",
    "scatter.show()"
   ]
  },
  {
   "cell_type": "code",
   "execution_count": null,
   "id": "6dc1961a-6b30-4c41-9db5-1ecf2ccc23d7",
   "metadata": {
    "execution": {
     "iopub.execute_input": "2024-02-29T16:41:13.790127Z",
     "iopub.status.busy": "2024-02-29T16:41:13.790127Z",
     "iopub.status.idle": "2024-02-29T16:41:13.806167Z",
     "shell.execute_reply": "2024-02-29T16:41:13.806167Z",
     "shell.execute_reply.started": "2024-02-29T16:41:13.790127Z"
    }
   },
   "outputs": [],
   "source": [
    "scatter.selection()"
   ]
  },
  {
   "cell_type": "code",
   "execution_count": null,
   "id": "969cd4da-6561-49c3-9579-82a2c32202b6",
   "metadata": {
    "execution": {
     "iopub.execute_input": "2024-02-29T16:41:29.739638Z",
     "iopub.status.busy": "2024-02-29T16:41:29.739638Z",
     "iopub.status.idle": "2024-02-29T16:41:29.989881Z",
     "shell.execute_reply": "2024-02-29T16:41:29.989881Z",
     "shell.execute_reply.started": "2024-02-29T16:41:29.739638Z"
    }
   },
   "outputs": [],
   "source": [
    "plt.matshow(X[618].reshape((28, 28)), cmap='gray')"
   ]
  },
  {
   "cell_type": "code",
   "execution_count": null,
   "id": "b4ccdffe-3a06-45e3-bb84-2933f2cf4a5f",
   "metadata": {},
   "outputs": [],
   "source": []
  }
 ],
 "metadata": {
  "kernelspec": {
   "display_name": "data-mining",
   "language": "python",
   "name": "data-mining"
  },
  "language_info": {
   "codemirror_mode": {
    "name": "ipython",
    "version": 3
   },
   "file_extension": ".py",
   "mimetype": "text/x-python",
   "name": "python",
   "nbconvert_exporter": "python",
   "pygments_lexer": "ipython3",
   "version": "3.10.0"
  }
 },
 "nbformat": 4,
 "nbformat_minor": 5
}
